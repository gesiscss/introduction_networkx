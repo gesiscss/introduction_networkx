{
 "cells": [
  {
   "cell_type": "markdown",
   "metadata": {
    "collapsed": true
   },
   "source": [
    "# Lecture: Network Analysis\n",
    "This notebook is an introduction to network analysis using the newest version 2.1 of the <a href='https://networkx.github.io/'>networkx</a> library. <font face='Courier'>networkx</font> is not suited for large networks, but it's part of the standard Anaconda installation. For large networks, consider <a href='https://graph-tool.skewed.de/'>graph-tool</a> or <a href='http://igraph.org/python/'>igraph</a>. Consult <a href='https://doi.org/10.1177/2059799115622763'>this paper</a> for a comparison of these packages and why Python is good for scientific computing. If you're looking for another introduction into <font face='Courier'>networkx</font>, you can try <a href='https://networkx.github.io/documentation/stable/tutorial.html'>this tutorial</a>."
   ]
  },
  {
   "cell_type": "markdown",
   "metadata": {},
   "source": [
    "## Imports and Settings"
   ]
  },
  {
   "cell_type": "code",
   "execution_count": null,
   "metadata": {},
   "outputs": [],
   "source": [
    "%matplotlib inline"
   ]
  },
  {
   "cell_type": "code",
   "execution_count": null,
   "metadata": {},
   "outputs": [],
   "source": [
    "import warnings\n",
    "import networkx as nx\n",
    "import matplotlib.pyplot as plt\n",
    "import pandas as pd\n",
    "import numpy as np\n",
    "from networkx.algorithms import bipartite"
   ]
  },
  {
   "cell_type": "code",
   "execution_count": null,
   "metadata": {},
   "outputs": [],
   "source": [
    "warnings.filterwarnings('ignore')"
   ]
  },
  {
   "cell_type": "markdown",
   "metadata": {},
   "source": [
    "## Graph Construction\n",
    "Terminology: Graphs consist of nodes (entities like persons or hashtags) and edges that connect nodes. By definition, an edge is defined by a pair of nodes. Both nodes and edges can have properties, and we will be using size and color for nodes and width and color for edges. If edges are directed, the graph is called a <font face='Courier'>DiGraph</font>.\n",
    "\n",
    "Create an empty graph:"
   ]
  },
  {
   "cell_type": "code",
   "execution_count": null,
   "metadata": {},
   "outputs": [],
   "source": [
    "G = nx.Graph()"
   ]
  },
  {
   "cell_type": "markdown",
   "metadata": {},
   "source": [
    "To create a directed graph:"
   ]
  },
  {
   "cell_type": "code",
   "execution_count": null,
   "metadata": {},
   "outputs": [],
   "source": [
    "D = nx.DiGraph()"
   ]
  },
  {
   "cell_type": "markdown",
   "metadata": {},
   "source": [
    "### Populate Graph Using Labels\n",
    "Add nodes:"
   ]
  },
  {
   "cell_type": "code",
   "execution_count": null,
   "metadata": {},
   "outputs": [],
   "source": [
    "labels = (['Alice', 'Bob', 'Carol'])\n",
    "G.add_nodes_from(labels)"
   ]
  },
  {
   "cell_type": "code",
   "execution_count": null,
   "metadata": {},
   "outputs": [],
   "source": [
    "G.nodes()"
   ]
  },
  {
   "cell_type": "markdown",
   "metadata": {},
   "source": [
    "Alternatively:"
   ]
  },
  {
   "cell_type": "code",
   "execution_count": null,
   "metadata": {},
   "outputs": [],
   "source": [
    "for label in labels:\n",
    "    G.add_node(label)"
   ]
  },
  {
   "cell_type": "code",
   "execution_count": null,
   "metadata": {},
   "outputs": [],
   "source": [
    "G.nodes()"
   ]
  },
  {
   "cell_type": "markdown",
   "metadata": {},
   "source": [
    "Add edges:"
   ]
  },
  {
   "cell_type": "code",
   "execution_count": null,
   "metadata": {},
   "outputs": [],
   "source": [
    "edges_label = [['Alice', 'Bob'], ['Bob', 'Carol'], ['Alice', 'Carol']]\n",
    "G.add_edges_from(edges_label)"
   ]
  },
  {
   "cell_type": "code",
   "execution_count": null,
   "metadata": {},
   "outputs": [],
   "source": [
    "G.edges()"
   ]
  },
  {
   "cell_type": "markdown",
   "metadata": {},
   "source": [
    "Alternatively:"
   ]
  },
  {
   "cell_type": "code",
   "execution_count": null,
   "metadata": {},
   "outputs": [],
   "source": [
    "for edge in range(0, len(edges_label)):\n",
    "    G.add_edge(edges_label[edge][0], edges_label[edge][1])"
   ]
  },
  {
   "cell_type": "code",
   "execution_count": null,
   "metadata": {},
   "outputs": [],
   "source": [
    "G.edges()"
   ]
  },
  {
   "cell_type": "markdown",
   "metadata": {},
   "source": [
    "Obtain graph with integer labels:"
   ]
  },
  {
   "cell_type": "code",
   "execution_count": null,
   "metadata": {},
   "outputs": [],
   "source": [
    "H = nx.convert_node_labels_to_integers(G)"
   ]
  },
  {
   "cell_type": "code",
   "execution_count": null,
   "metadata": {},
   "outputs": [],
   "source": [
    "H.nodes()"
   ]
  },
  {
   "cell_type": "code",
   "execution_count": null,
   "metadata": {},
   "outputs": [],
   "source": [
    "H.edges()"
   ]
  },
  {
   "cell_type": "markdown",
   "metadata": {},
   "source": [
    "### Populate Graph Using Integers"
   ]
  },
  {
   "cell_type": "code",
   "execution_count": null,
   "metadata": {},
   "outputs": [],
   "source": [
    "G = nx.Graph()"
   ]
  },
  {
   "cell_type": "code",
   "execution_count": null,
   "metadata": {},
   "outputs": [],
   "source": [
    "nodes = ([0, 1, 2])\n",
    "G.add_nodes_from(nodes)"
   ]
  },
  {
   "cell_type": "code",
   "execution_count": null,
   "metadata": {},
   "outputs": [],
   "source": [
    "G.nodes()"
   ]
  },
  {
   "cell_type": "code",
   "execution_count": null,
   "metadata": {},
   "outputs": [],
   "source": [
    "edges = [[0, 1], [0, 2], [1, 2]]\n",
    "G.add_edges_from(edges)"
   ]
  },
  {
   "cell_type": "code",
   "execution_count": null,
   "metadata": {},
   "outputs": [],
   "source": [
    "G.edges()"
   ]
  },
  {
   "cell_type": "markdown",
   "metadata": {},
   "source": [
    "Add labels to nodes:"
   ]
  },
  {
   "cell_type": "code",
   "execution_count": null,
   "metadata": {},
   "outputs": [],
   "source": [
    "for i in range(0, len(labels)):\n",
    "    G.nodes[i]['label'] = labels[i]"
   ]
  },
  {
   "cell_type": "code",
   "execution_count": null,
   "metadata": {},
   "outputs": [],
   "source": [
    "G.nodes(data=True)"
   ]
  },
  {
   "cell_type": "code",
   "execution_count": null,
   "metadata": {},
   "outputs": [],
   "source": [
    "G.edges(data=True)"
   ]
  },
  {
   "cell_type": "markdown",
   "metadata": {},
   "source": [
    "Get neighbors of selected nodes:"
   ]
  },
  {
   "cell_type": "code",
   "execution_count": null,
   "metadata": {},
   "outputs": [],
   "source": [
    "[n for n in G.neighbors(0)]"
   ]
  },
  {
   "cell_type": "markdown",
   "metadata": {},
   "source": [
    "## Plot Graph"
   ]
  },
  {
   "cell_type": "code",
   "execution_count": null,
   "metadata": {},
   "outputs": [],
   "source": [
    "plt.figure(figsize=(2, 2))\n",
    "nx.draw_circular(G, with_labels=True)"
   ]
  },
  {
   "cell_type": "code",
   "execution_count": null,
   "metadata": {},
   "outputs": [],
   "source": [
    "plt.figure(figsize=(2, 2))\n",
    "nx.draw_spring(G, with_labels=True)"
   ]
  },
  {
   "cell_type": "code",
   "execution_count": null,
   "metadata": {},
   "outputs": [],
   "source": [
    "D = nx.DiGraph()\n",
    "D.add_edges_from(edges)"
   ]
  },
  {
   "cell_type": "code",
   "execution_count": null,
   "metadata": {},
   "outputs": [],
   "source": [
    "plt.figure(figsize=(2, 2))\n",
    "nx.draw_spring(D, with_labels=True)"
   ]
  },
  {
   "cell_type": "markdown",
   "metadata": {},
   "source": [
    "## Bipartite Networks\n",
    "Bipartite networks consist of two types of nodes -- like agents being influenced by social facts --, and there are no edges among nodes of the same type.\n",
    "\n",
    "![bipartite](img/bipartite.png)\n",
    "\n",
    "Load and visualize bipartite data:"
   ]
  },
  {
   "cell_type": "code",
   "execution_count": null,
   "metadata": {},
   "outputs": [],
   "source": [
    "edgelist = pd.read_csv('data/bipartite.txt', header='infer', delimiter='\\t', encoding='utf-8')\n",
    "edgelist"
   ]
  },
  {
   "cell_type": "markdown",
   "metadata": {},
   "source": [
    "Use edgelist to create graph:"
   ]
  },
  {
   "cell_type": "code",
   "execution_count": null,
   "metadata": {},
   "outputs": [],
   "source": [
    "#G = nx.from_pandas_dataframe(edgelist, source='agent', target='fact') # networkx 2.0\n",
    "G = nx.Graph()\n",
    "G.add_edges_from(edgelist.values)"
   ]
  },
  {
   "cell_type": "markdown",
   "metadata": {},
   "source": [
    "Manually set node positions:"
   ]
  },
  {
   "cell_type": "code",
   "execution_count": null,
   "metadata": {},
   "outputs": [],
   "source": [
    "pos_bipartite = {'a1': np.array([-0.33333333,  0.66666667]),\n",
    " 'a2': np.array([-0.33333333,  0.33333333]),\n",
    " 'a3': np.array([-0.33333333,  0.        ]),\n",
    " 'a4': np.array([-0.33333333, -0.33333333]),\n",
    " 'a5': np.array([-0.33333333, -0.66666667]),\n",
    " 'f1': np.array([ 0.33333333,  0.80000000]),\n",
    " 'f2': np.array([ 0.33333333,  0.60000000]),\n",
    " 'f3': np.array([ 0.33333333,  0.40000000]),\n",
    " 'f4': np.array([ 0.33333333,  0.20000000]),\n",
    " 'f5': np.array([ 0.33333333,  0.        ]),\n",
    " 'f6': np.array([ 0.33333333, -0.20000000]),\n",
    " 'f7': np.array([ 0.33333333, -0.40000000]),\n",
    " 'f8': np.array([ 0.33333333, -0.60000000]),\n",
    " 'f9': np.array([ 0.33333333, -0.80000000])}"
   ]
  },
  {
   "cell_type": "code",
   "execution_count": null,
   "metadata": {},
   "outputs": [],
   "source": [
    "G.nodes()"
   ]
  },
  {
   "cell_type": "code",
   "execution_count": null,
   "metadata": {},
   "outputs": [],
   "source": [
    "plt.figure(figsize = (3, 3))\n",
    "nx.draw(G, pos=pos_bipartite, with_labels=True, node_color='w')"
   ]
  },
  {
   "cell_type": "markdown",
   "metadata": {},
   "source": [
    "Bipartite networks can be folded into unipartite networks. To do that, the two node sets of the bipartite matrix must be \"colored\", *i.e.* the two partitions must be identified:"
   ]
  },
  {
   "cell_type": "code",
   "execution_count": null,
   "metadata": {},
   "outputs": [],
   "source": [
    "#agents, facts = bipartite.sets(G)"
   ]
  },
  {
   "cell_type": "code",
   "execution_count": null,
   "metadata": {},
   "outputs": [],
   "source": [
    "nx.is_connected(G)"
   ]
  },
  {
   "cell_type": "code",
   "execution_count": null,
   "metadata": {},
   "outputs": [],
   "source": [
    "agents, facts = set(edgelist['agent']), set(edgelist['fact'])"
   ]
  },
  {
   "cell_type": "code",
   "execution_count": null,
   "metadata": {},
   "outputs": [],
   "source": [
    "agents, facts"
   ]
  },
  {
   "cell_type": "markdown",
   "metadata": {},
   "source": [
    "Create the agent co-fact graph. An edge gives the number of facts a pair of agents is co-influenced by:"
   ]
  },
  {
   "cell_type": "code",
   "execution_count": null,
   "metadata": {},
   "outputs": [],
   "source": [
    "G_agents = bipartite.weighted_projected_graph(G, agents)\n",
    "G_agents.edges(data=True)"
   ]
  },
  {
   "cell_type": "markdown",
   "metadata": {},
   "source": [
    "Extract edge weights:"
   ]
  },
  {
   "cell_type": "code",
   "execution_count": null,
   "metadata": {},
   "outputs": [],
   "source": [
    "co_facts = [w['weight'] for (u, v, w) in G_agents.edges(data=True)]\n",
    "co_facts"
   ]
  },
  {
   "cell_type": "code",
   "execution_count": null,
   "metadata": {},
   "outputs": [],
   "source": [
    "plt.figure(figsize=(3, 3))\n",
    "nx.draw_circular(G_agents, with_labels=True, node_color='w', width=co_facts)"
   ]
  },
  {
   "cell_type": "markdown",
   "metadata": {},
   "source": [
    "Create the fact co-agent graph (an edge gives the number of agents that a pair of facts co-influence) and extract edge weights:"
   ]
  },
  {
   "cell_type": "code",
   "execution_count": null,
   "metadata": {},
   "outputs": [],
   "source": [
    "G_facts = bipartite.weighted_projected_graph(G, facts)\n",
    "co_agents = [w['weight'] for (u, v, w) in G_facts.edges(data=True)]\n",
    "plt.figure(figsize = (3, 3))\n",
    "nx.draw_circular(G_facts, with_labels=True, node_color='w', width=co_agents)"
   ]
  },
  {
   "cell_type": "markdown",
   "metadata": {},
   "source": [
    "### Duality of Groups and Link Communities\n",
    "\n",
    "Assume that a1 and a2 are in group 0; a3, a4, and a5 are in group 1 in the agent network. In practice, such a partition would likely stem from a clustering algorithm."
   ]
  },
  {
   "cell_type": "code",
   "execution_count": null,
   "metadata": {},
   "outputs": [],
   "source": [
    "agents_groups = pd.read_csv('data/bipartite_agents_groups.txt', header='infer', delimiter='\\t', encoding='utf-8')\n",
    "agents_groups"
   ]
  },
  {
   "cell_type": "markdown",
   "metadata": {},
   "source": [
    "Create a set of agents for each group:"
   ]
  },
  {
   "cell_type": "code",
   "execution_count": null,
   "metadata": {},
   "outputs": [],
   "source": [
    "agents_group0 = set(agents_groups[agents_groups['group'] == 0]['agent'])\n",
    "agents_group1 = set(agents_groups[agents_groups['group'] == 1]['agent'])\n",
    "agents_group0, agents_group1"
   ]
  },
  {
   "cell_type": "markdown",
   "metadata": {},
   "source": [
    "Transform dataframe into dictionary:"
   ]
  },
  {
   "cell_type": "code",
   "execution_count": null,
   "metadata": {},
   "outputs": [],
   "source": [
    "agents_groups_dict = agents_groups.set_index('agent')['group'].to_dict()\n",
    "agents_groups_dict"
   ]
  },
  {
   "cell_type": "markdown",
   "metadata": {},
   "source": [
    "Add colors to nodes by iterating through the dictionary:"
   ]
  },
  {
   "cell_type": "code",
   "execution_count": null,
   "metadata": {},
   "outputs": [],
   "source": [
    "G_agents.nodes(data=True)"
   ]
  },
  {
   "cell_type": "code",
   "execution_count": null,
   "metadata": {},
   "outputs": [],
   "source": [
    "for key, value in agents_groups_dict.items():\n",
    "    if value == 0:\n",
    "        G_agents.nodes[key]['color'] = 'r'\n",
    "    if value == 1:\n",
    "        G_agents.nodes[key]['color'] = 'b'"
   ]
  },
  {
   "cell_type": "code",
   "execution_count": null,
   "metadata": {},
   "outputs": [],
   "source": [
    "G_agents.nodes(data=True)"
   ]
  },
  {
   "cell_type": "markdown",
   "metadata": {},
   "source": [
    "Store colors in a list:"
   ]
  },
  {
   "cell_type": "code",
   "execution_count": null,
   "metadata": {},
   "outputs": [],
   "source": [
    "agents_color = [c['color'] for (u, c) in G_agents.nodes(data=True)]\n",
    "agents_color"
   ]
  },
  {
   "cell_type": "code",
   "execution_count": null,
   "metadata": {},
   "outputs": [],
   "source": [
    "plt.figure(figsize = (3, 3))\n",
    "nx.draw_circular(G_agents, with_labels=True, node_color=agents_color, width=co_facts)"
   ]
  },
  {
   "cell_type": "markdown",
   "metadata": {},
   "source": [
    "Using this information, we can construct a graph of facts where now the edges are colored, indicating the co-influence of facts in a group. The way to go is to create one graph for each group and then use the edges of those *layers* to populate a multigraph.\n",
    "\n",
    "First, extract an edgelist for each group:"
   ]
  },
  {
   "cell_type": "code",
   "execution_count": null,
   "metadata": {},
   "outputs": [],
   "source": [
    "edgelist_group0 = edgelist[edgelist['agent'].isin(agents_group0)]\n",
    "edgelist_group1 = edgelist[edgelist['agent'].isin(agents_group1)]\n",
    "edgelist_group0, edgelist_group1"
   ]
  },
  {
   "cell_type": "markdown",
   "metadata": {},
   "source": [
    "Second, create a bipartite graph for each group:"
   ]
  },
  {
   "cell_type": "code",
   "execution_count": null,
   "metadata": {},
   "outputs": [],
   "source": [
    "G_group0 = nx.Graph()\n",
    "G_group0.add_edges_from(edgelist_group0.values)\n",
    "G_group1 = nx.Graph()\n",
    "G_group1.add_edges_from(edgelist_group1.values)"
   ]
  },
  {
   "cell_type": "markdown",
   "metadata": {},
   "source": [
    "Third, create a set of facts for each group -- note the node and edge overlap:"
   ]
  },
  {
   "cell_type": "code",
   "execution_count": null,
   "metadata": {},
   "outputs": [],
   "source": [
    "facts_group0, facts_group1 = set(edgelist_group0['fact']), set(edgelist_group1['fact'])\n",
    "facts_group0, facts_group1"
   ]
  },
  {
   "cell_type": "markdown",
   "metadata": {},
   "source": [
    "Fourth, fold each biartite graph into a fact co-agent graph:"
   ]
  },
  {
   "cell_type": "code",
   "execution_count": null,
   "metadata": {},
   "outputs": [],
   "source": [
    "G_facts_group0 = bipartite.weighted_projected_graph(G_group0, facts_group0)\n",
    "G_facts_group1 = bipartite.weighted_projected_graph(G_group1, facts_group1)"
   ]
  },
  {
   "cell_type": "markdown",
   "metadata": {},
   "source": [
    "Fifth, extract edge weights:"
   ]
  },
  {
   "cell_type": "code",
   "execution_count": null,
   "metadata": {},
   "outputs": [],
   "source": [
    "co_agents_group0 = [w['weight'] for (u, v, w) in G_facts_group0.edges(data=True)]\n",
    "co_agents_group1 = [w['weight'] for (u, v, w) in G_facts_group1.edges(data=True)]\n",
    "co_agents_group0, co_agents_group1"
   ]
  },
  {
   "cell_type": "markdown",
   "metadata": {},
   "source": [
    "Sixth, create a multigraph (where there can be multiple edges among the same node pair) and populate it using the edges from the two group layers:"
   ]
  },
  {
   "cell_type": "code",
   "execution_count": null,
   "metadata": {},
   "outputs": [],
   "source": [
    "G_facts_groups = nx.MultiGraph()\n",
    "G_facts_groups.add_nodes_from(G_facts.nodes())\n",
    "G_facts_groups.add_edges_from(G_facts_group0.edges(data=True), color='r')\n",
    "G_facts_groups.add_edges_from(G_facts_group1.edges(data=True), color='b')\n",
    "G_facts_groups.edges(data=True)"
   ]
  },
  {
   "cell_type": "markdown",
   "metadata": {},
   "source": [
    "Seventh, extract colors and edge weights for the multigraph. Nodes are not colored because they can influence agents in both groups (they are neutral regarding groups):"
   ]
  },
  {
   "cell_type": "code",
   "execution_count": null,
   "metadata": {},
   "outputs": [],
   "source": [
    "co_agents_colors = [c['color'] for (u, v, c) in G_facts_groups.edges(data=True)]\n",
    "co_agents_groups = [w['weight'] for (u, v, w) in G_facts_groups.edges(data=True)]"
   ]
  },
  {
   "cell_type": "markdown",
   "metadata": {},
   "source": [
    "Finally, plot the multigraph:"
   ]
  },
  {
   "cell_type": "code",
   "execution_count": null,
   "metadata": {},
   "outputs": [],
   "source": [
    "plt.figure(figsize=(3, 3))\n",
    "nx.draw_circular(G_facts_groups, with_labels=True, node_color='w', edge_color=co_agents_colors, width=co_agents_groups)"
   ]
  },
  {
   "cell_type": "markdown",
   "metadata": {},
   "source": [
    "Nodes, edges, and labels can also be plotted step by step. This is advantageous if we want to use transparecy solely on the edges:"
   ]
  },
  {
   "cell_type": "code",
   "execution_count": null,
   "metadata": {},
   "outputs": [],
   "source": [
    "pos = nx.circular_layout(G_facts_groups)"
   ]
  },
  {
   "cell_type": "code",
   "execution_count": null,
   "metadata": {},
   "outputs": [],
   "source": [
    "plt.figure(figsize=(3, 3))\n",
    "nx.draw_networkx_nodes(G_facts_groups, pos=pos, node_color='w')\n",
    "nx.draw_networkx_labels(G_facts, pos=pos)\n",
    "nx.draw_networkx_edges(G_facts_groups, pos=pos, edge_color=co_agents_colors, width=co_agents_groups, alpha=0.5)\n",
    "plt.axis('off')"
   ]
  },
  {
   "cell_type": "markdown",
   "metadata": {},
   "source": [
    "## How Politicians Talk On Twitter (Bundestagswahl 2013)\n",
    "Now let's work with empirical data: tweets by German politicians before and shortly after the federal election of 2013. A version of this data was analyzed in <a href='https://www.aaai.org/ocs/index.php/ICWSM/ICWSM14/paper/viewPaper/8069'>this</a> paper.\n",
    "\n",
    "### Structure of Network Data\n",
    "\n",
    "Network data is practically stored as a relational database consisting of entities and their relationships. There are two types of entities, politicians (agents) and hashtags (facts):"
   ]
  },
  {
   "cell_type": "code",
   "execution_count": null,
   "metadata": {},
   "outputs": [],
   "source": [
    "politicians = pd.read_csv('data/icwsm14_politicians.txt', delimiter='\\t', encoding='utf-8')\n",
    "politicians.head()"
   ]
  },
  {
   "cell_type": "code",
   "execution_count": null,
   "metadata": {},
   "outputs": [],
   "source": [
    "hashtags = pd.read_csv('data/icwsm14_hashtags.txt', delimiter='\\t', encoding='utf-8')\n",
    "hashtags.head()"
   ]
  },
  {
   "cell_type": "markdown",
   "metadata": {},
   "source": [
    "There are three types of relationships, mentioning (of politicians by politicians), retweeting (of politicians by politicians), and tagging (of tweets by politicians):"
   ]
  },
  {
   "cell_type": "code",
   "execution_count": null,
   "metadata": {},
   "outputs": [],
   "source": [
    "edgelist_mentioning = pd.read_csv('data/icwsm14_mentioning.txt', delimiter='\\t', encoding='utf-8')\n",
    "edgelist_mentioning = edgelist_mentioning[edgelist_mentioning['agent_id'] != edgelist_mentioning['fact_id']]\n",
    "edgelist_mentioning.head()"
   ]
  },
  {
   "cell_type": "code",
   "execution_count": null,
   "metadata": {},
   "outputs": [],
   "source": [
    "edgelist_retweeting = pd.read_csv('data/icwsm14_retweeting.txt', delimiter='\\t', encoding='utf-8')\n",
    "edgelist_retweeting = edgelist_retweeting[edgelist_retweeting['agent_id'] != edgelist_retweeting['fact_id']]\n",
    "edgelist_retweeting.head()"
   ]
  },
  {
   "cell_type": "code",
   "execution_count": null,
   "metadata": {},
   "outputs": [],
   "source": [
    "edgelist_tagging = pd.read_csv('data/icwsm14_tagging.txt', delimiter='\\t', encoding='utf-8')\n",
    "edgelist_tagging.head()"
   ]
  },
  {
   "cell_type": "markdown",
   "metadata": {},
   "source": [
    "### Graph Visualization\n",
    "A good way to start an analysis is to get a visual impression of the data. Let's start with the directed unipartite graph of who mentions who. Tune <font face='Courier'>k</font> (the optimal distance between nodes) until the result looks satisfactory:"
   ]
  },
  {
   "cell_type": "code",
   "execution_count": null,
   "metadata": {},
   "outputs": [],
   "source": [
    "#D_mentioning = nx.from_pandas_dataframe(edgelist_mentioning, source='agent_id', target='fact_id', create_using=nx.DiGraph()) # networkx 2.0\n",
    "D_mentioning = nx.DiGraph()\n",
    "D_mentioning.add_edges_from(edgelist_mentioning[['agent_id', 'fact_id']].values)\n",
    "pos_mentioning = nx.spring_layout(D_mentioning, k=0.5)\n",
    "plt.figure(figsize=(6, 6))\n",
    "nx.draw(D_mentioning, pos=pos_mentioning)"
   ]
  },
  {
   "cell_type": "code",
   "execution_count": null,
   "metadata": {},
   "outputs": [],
   "source": [
    "nx.number_of_nodes(D_mentioning), nx.number_of_edges(D_mentioning)"
   ]
  },
  {
   "cell_type": "markdown",
   "metadata": {},
   "source": [
    "Is the graph weakly connected (it is if it contains a directed path from <font face='Courier'>u</font> to <font face='Courier'>v</font> or a directed path from <font face='Courier'>v</font> to <font face='Courier'>u</font> for every pair of vertices <font face='Courier'>u</font>, <font face='Courier'>v</font>)?"
   ]
  },
  {
   "cell_type": "code",
   "execution_count": null,
   "metadata": {},
   "outputs": [],
   "source": [
    "nx.is_weakly_connected(D_mentioning)"
   ]
  },
  {
   "cell_type": "markdown",
   "metadata": {},
   "source": [
    "How many weakly connected components are there?"
   ]
  },
  {
   "cell_type": "code",
   "execution_count": null,
   "metadata": {},
   "outputs": [],
   "source": [
    "nx.number_weakly_connected_components(D_mentioning)"
   ]
  },
  {
   "cell_type": "markdown",
   "metadata": {},
   "source": [
    "Extract the largest weakly connected component:"
   ]
  },
  {
   "cell_type": "code",
   "execution_count": null,
   "metadata": {},
   "outputs": [],
   "source": [
    "D_mentioning_giant = max(nx.weakly_connected_component_subgraphs(D_mentioning), key=len)\n",
    "pos_mentioning_giant = nx.spring_layout(D_mentioning, k=0.5)\n",
    "plt.figure(figsize=(6, 6))\n",
    "nx.draw(D_mentioning_giant, pos=pos_mentioning_giant)"
   ]
  },
  {
   "cell_type": "code",
   "execution_count": null,
   "metadata": {},
   "outputs": [],
   "source": [
    "nx.number_of_nodes(D_mentioning_giant), nx.number_of_edges(D_mentioning_giant)"
   ]
  },
  {
   "cell_type": "markdown",
   "metadata": {},
   "source": [
    "We can do better than this!\n",
    "\n",
    "First, since we've used a simple <font face='Courier'>nx.DiGraph()</font> structure edge weights are neglected. We can include them by grouping the initial dataframe on source and target nodes:"
   ]
  },
  {
   "cell_type": "code",
   "execution_count": null,
   "metadata": {},
   "outputs": [],
   "source": [
    "edgelist_mentioning_weighted = edgelist_mentioning.groupby(['agent_id', 'fact_id']).size().to_frame('weight').reset_index()\n",
    "edgelist_mentioning_weighted.head()"
   ]
  },
  {
   "cell_type": "code",
   "execution_count": null,
   "metadata": {},
   "outputs": [],
   "source": [
    "D_mentioning = nx.DiGraph()"
   ]
  },
  {
   "cell_type": "code",
   "execution_count": null,
   "metadata": {},
   "outputs": [],
   "source": [
    "#D_mentioning = nx.from_pandas_dataframe(edgelist_mentioning_weighted, source='agent_id', target='fact_id', edge_attr='weight', create_using=nx.DiGraph()) # networkx 2.0\n",
    "D_mentioning = nx.DiGraph()\n",
    "D_mentioning.add_weighted_edges_from(edgelist_mentioning_weighted.values)"
   ]
  },
  {
   "cell_type": "code",
   "execution_count": null,
   "metadata": {},
   "outputs": [],
   "source": [
    "mentioning_weight = [w['weight'] for (u, v, w) in D_mentioning.edges(data=True)]\n",
    "mentioning_weight = [w/20 for w in mentioning_weight]"
   ]
  },
  {
   "cell_type": "code",
   "execution_count": null,
   "metadata": {},
   "outputs": [],
   "source": [
    "plt.figure(figsize=(6, 6))\n",
    "nx.draw(D_mentioning, pos=pos_mentioning, width=mentioning_weight)"
   ]
  },
  {
   "cell_type": "markdown",
   "metadata": {},
   "source": [
    "Second, size nodes by the number of times the corresponding politician has been mentioned:"
   ]
  },
  {
   "cell_type": "code",
   "execution_count": null,
   "metadata": {},
   "outputs": [],
   "source": [
    "mentioning_inweight = dict(D_mentioning.in_degree(weight='weight'))"
   ]
  },
  {
   "cell_type": "code",
   "execution_count": null,
   "metadata": {},
   "outputs": [],
   "source": [
    "for key, value in mentioning_inweight.items():\n",
    "    D_mentioning.nodes[key]['inweight'] = value"
   ]
  },
  {
   "cell_type": "code",
   "execution_count": null,
   "metadata": {},
   "outputs": [],
   "source": [
    "mentioning_inweight = [w['inweight'] for (u, w) in D_mentioning.nodes(data=True)]\n",
    "mentioning_inweight = [w/1 for w in mentioning_inweight]"
   ]
  },
  {
   "cell_type": "code",
   "execution_count": null,
   "metadata": {},
   "outputs": [],
   "source": [
    "plt.figure(figsize=(6, 6))\n",
    "nx.draw(D_mentioning, pos=pos_mentioning, node_size=mentioning_inweight, width=mentioning_weight)"
   ]
  },
  {
   "cell_type": "markdown",
   "metadata": {},
   "source": [
    "Third, each politician belongs to a political party. Represent each by a color:"
   ]
  },
  {
   "cell_type": "code",
   "execution_count": null,
   "metadata": {},
   "outputs": [],
   "source": [
    "politicians_parties_mentioning = politicians[politicians['agent_id'].isin(set(D_mentioning.nodes))][['agent_id', 'party']]\n",
    "politicians_parties_mentioning.head()"
   ]
  },
  {
   "cell_type": "code",
   "execution_count": null,
   "metadata": {},
   "outputs": [],
   "source": [
    "politicians_parties_mentioning_dict = politicians_parties_mentioning.set_index('agent_id')['party'].to_dict()"
   ]
  },
  {
   "cell_type": "code",
   "execution_count": null,
   "metadata": {},
   "outputs": [],
   "source": [
    "for key, value in politicians_parties_mentioning_dict.items():\n",
    "    if value == 'CDU':\n",
    "        D_mentioning.nodes[key]['color'] = 'black'\n",
    "    if value == 'CSU':\n",
    "        D_mentioning.nodes[key]['color'] = 'black'\n",
    "    if value == 'FDP':\n",
    "        D_mentioning.nodes[key]['color'] = 'yellow'\n",
    "    if value == 'Die Grünen':\n",
    "        D_mentioning.nodes[key]['color'] = 'green'\n",
    "    if value == 'Die Linke':\n",
    "        D_mentioning.nodes[key]['color'] = 'darkviolet'\n",
    "    if value == 'Piratenpartei':\n",
    "        D_mentioning.nodes[key]['color'] = 'orange'\n",
    "    if value == 'SPD':\n",
    "        D_mentioning.nodes[key]['color'] = 'red'"
   ]
  },
  {
   "cell_type": "code",
   "execution_count": null,
   "metadata": {},
   "outputs": [],
   "source": [
    "politicians_color_mentioning = [c['color'] for (u, c) in D_mentioning.nodes(data=True)]"
   ]
  },
  {
   "cell_type": "code",
   "execution_count": null,
   "metadata": {},
   "outputs": [],
   "source": [
    "plt.figure(figsize=(6, 6))\n",
    "nx.draw(D_mentioning, pos=pos_mentioning, node_size=mentioning_inweight, node_color=politicians_color_mentioning, width=mentioning_weight)"
   ]
  },
  {
   "cell_type": "markdown",
   "metadata": {},
   "source": [
    "Now that we see more, increase the number of iterations (from a default value of 50) for the spring embedder to converge:"
   ]
  },
  {
   "cell_type": "code",
   "execution_count": null,
   "metadata": {},
   "outputs": [],
   "source": [
    "pos_mentioning = nx.spring_layout(D_mentioning, k=1, iterations=200)\n",
    "plt.figure(figsize=(6, 6))\n",
    "nx.draw(D_mentioning, pos=pos_mentioning, node_size=mentioning_inweight, node_color=politicians_color_mentioning, width=mentioning_weight)"
   ]
  },
  {
   "cell_type": "markdown",
   "metadata": {},
   "source": [
    "### Party Mixing Pattern\n",
    "Eye inspection of the network shows that politicians strongly mention fellow party members. Newman's assortativity measure (in <a href='https://doi.org/10.1103/PhysRevE.67.026126'>this</a> paper) can be used to quantify this:"
   ]
  },
  {
   "cell_type": "code",
   "execution_count": null,
   "metadata": {},
   "outputs": [],
   "source": [
    "nx.attribute_assortativity_coefficient(D_mentioning, attribute='color')"
   ]
  },
  {
   "cell_type": "markdown",
   "metadata": {},
   "source": [
    "### Distributions\n",
    "Eye inspection also shows that there are large differences in attention. Who are those highly mentioned politicians? Add real names to nodes and list them along with inweights:"
   ]
  },
  {
   "cell_type": "code",
   "execution_count": null,
   "metadata": {},
   "outputs": [],
   "source": [
    "politicians_names = politicians[politicians['agent_id'].isin(set(D_mentioning.nodes))][['agent_id', 'agent']]\n",
    "politicians_names_dict = politicians_names.set_index('agent_id')['agent'].to_dict()"
   ]
  },
  {
   "cell_type": "code",
   "execution_count": null,
   "metadata": {},
   "outputs": [],
   "source": [
    "for key, value in politicians_names_dict.items():\n",
    "    D_mentioning.nodes[key]['agent'] = value"
   ]
  },
  {
   "cell_type": "code",
   "execution_count": null,
   "metadata": {},
   "outputs": [],
   "source": [
    "pd.DataFrame({\n",
    "    'agent': list(nx.get_node_attributes(D_mentioning, 'agent').values()),\n",
    "    'inweight': list(nx.get_node_attributes(D_mentioning, 'inweight').values())\n",
    "}).sort_values(by='inweight', ascending=False)"
   ]
  },
  {
   "cell_type": "markdown",
   "metadata": {},
   "source": [
    "A primer on scale-free networks:"
   ]
  },
  {
   "cell_type": "markdown",
   "metadata": {},
   "source": [
    "<tr><td><img src=\"img/distr.png\" alt=\"distribution\"/></td><td><img src=\"img/sampl.png\" alt=\"sampling\"/></td></tr>"
   ]
  },
  {
   "cell_type": "markdown",
   "metadata": {},
   "source": [
    "We are used to normal distributions. If the degrees $k$ of a graph are normally distributed, the network has a typical scale described by the mean and standard deviation of the normal distribution (left figure: Gaussian).\n",
    "\n",
    "<a href='http://doi.org/10.1126/science.286.5439.509'>Scale-free networks</a> are a paradigmatic class of graphs in network science. A network is scale-free if its degree distribution resembles a power law:\n",
    "\n",
    "$p(k)\\propto k^{-\\alpha}$\n",
    "\n",
    "Power laws show as straight lines on log-log scales, where the exponent $\\alpha$ determines the slope (left figure: power law). \n",
    "\n",
    "In the depicted case, $\\alpha\\approx2.8$. Networks with exponents $\\alpha\\leq3$ theoretically have infinite variance, *i.e.* practically samples converge slowly to the empirical value.\n",
    "\n",
    "We can also use the weighted indegree to study if the mentioning network is scale-free:"
   ]
  },
  {
   "cell_type": "code",
   "execution_count": null,
   "metadata": {},
   "outputs": [],
   "source": [
    "w = [w for w in mentioning_inweight if w > 0]"
   ]
  },
  {
   "cell_type": "code",
   "execution_count": null,
   "metadata": {},
   "outputs": [],
   "source": [
    "import powerlaw as pl"
   ]
  },
  {
   "cell_type": "code",
   "execution_count": null,
   "metadata": {},
   "outputs": [],
   "source": [
    "pl.plot_pdf(w, marker='o', ls='', linear_bins=True) # explore setting linear_bins=False\n",
    "plt.xlabel('$w$')\n",
    "plt.ylabel('$p(w)$')"
   ]
  },
  {
   "cell_type": "markdown",
   "metadata": {},
   "source": [
    "There are five candidate functions to describe distributions like this:\n",
    "\n",
    "- exponential (like the tail of a normal distribution)\n",
    "- stretched exponential (an exponential with a power-law stretch)\n",
    "- lognormal\n",
    "- power law\n",
    "- truncated power law (a power law with an exponential upper cutoff)"
   ]
  },
  {
   "cell_type": "code",
   "execution_count": null,
   "metadata": {},
   "outputs": [],
   "source": [
    "function = ['exponential', 'stretched_exponential', 'lognormal', 'power_law', 'truncated_power_law']"
   ]
  },
  {
   "cell_type": "markdown",
   "metadata": {},
   "source": [
    "Fit these functions to the data (using maximum likelihood estimation described here):"
   ]
  },
  {
   "cell_type": "code",
   "execution_count": null,
   "metadata": {},
   "outputs": [],
   "source": [
    "w_fit = pl.Fit(w, discrete=True, xmin=1) # explore not setting xmin"
   ]
  },
  {
   "cell_type": "code",
   "execution_count": null,
   "metadata": {},
   "outputs": [],
   "source": [
    "print('xmin:', w_fit.xmin)\n",
    "print('alpha:', round(w_fit.alpha, 2))"
   ]
  },
  {
   "cell_type": "markdown",
   "metadata": {},
   "source": [
    "Print the Kolmogorov-Smirnov goodness of fit:"
   ]
  },
  {
   "cell_type": "code",
   "execution_count": null,
   "metadata": {},
   "outputs": [],
   "source": [
    "print('exponential:', round(w_fit.exponential.D, 2))\n",
    "print('stretched_exponential:', round(w_fit.stretched_exponential.D, 2))\n",
    "print('lognormal:', round(w_fit.lognormal.D, 2))\n",
    "print('power_law:', round(w_fit.power_law.D, 2))\n",
    "print('truncated_power_law:', round(w_fit.truncated_power_law.D, 2))"
   ]
  },
  {
   "cell_type": "markdown",
   "metadata": {},
   "source": [
    "Add fits to plot:"
   ]
  },
  {
   "cell_type": "code",
   "execution_count": null,
   "metadata": {},
   "outputs": [],
   "source": [
    "w_fit.plot_pdf(linear_bins=False, marker='o', ls='', label='data')\n",
    "w_fit.exponential.plot_pdf(label='exponential')\n",
    "w_fit.stretched_exponential.plot_pdf(label='stretched_exponential')\n",
    "w_fit.lognormal.plot_pdf(label='lognormal')\n",
    "w_fit.power_law.plot_pdf(label='power_law')\n",
    "w_fit.truncated_power_law.plot_pdf(label='truncated_power_law')\n",
    "plt.xlabel('$w$')\n",
    "plt.ylabel('$p(w)$')\n",
    "plt.legend()"
   ]
  },
  {
   "cell_type": "markdown",
   "metadata": {},
   "source": [
    "Assess which of two functions is a more plausible fit. The first score, $R$, is the loglikelihood ratio between the two functions. It is positive (negative) when the first (second) function is more likely. The second score, $p$, gives the significance of the difference."
   ]
  },
  {
   "cell_type": "code",
   "execution_count": null,
   "metadata": {},
   "outputs": [],
   "source": [
    "w_fit.distribution_compare('power_law', 'stretched_exponential')"
   ]
  },
  {
   "cell_type": "code",
   "execution_count": null,
   "metadata": {},
   "outputs": [],
   "source": [
    "w_fit.distribution_compare(function[3], function[1])"
   ]
  },
  {
   "cell_type": "markdown",
   "metadata": {},
   "source": [
    "Compare functions systematically by comparing all possible pairs:"
   ]
  },
  {
   "cell_type": "code",
   "execution_count": null,
   "metadata": {},
   "outputs": [],
   "source": [
    "w_fit_R = np.zeros((5, 5), dtype=float)\n",
    "w_fit_p = np.zeros((5, 5), dtype=float)"
   ]
  },
  {
   "cell_type": "code",
   "execution_count": null,
   "metadata": {},
   "outputs": [],
   "source": [
    "for i in range(0, 5):\n",
    "    for j in range(0, 5):\n",
    "        R, p = w_fit.distribution_compare(function[i], function[j])\n",
    "        w_fit_R[i, j] = R\n",
    "        w_fit_p[i, j] = p"
   ]
  },
  {
   "cell_type": "code",
   "execution_count": null,
   "metadata": {},
   "outputs": [],
   "source": [
    "pd.DataFrame(w_fit_R, index=function, columns=function)"
   ]
  },
  {
   "cell_type": "code",
   "execution_count": null,
   "metadata": {},
   "outputs": [],
   "source": [
    "pd.DataFrame(w_fit_p, index=function, columns=function)"
   ]
  },
  {
   "cell_type": "markdown",
   "metadata": {},
   "source": [
    "### The Undirected Hidden Network\n",
    "Often attention in tweets is not reciprocated. Agents who are mentioned by many don't necessarily mention those many agents. Huberman *et al.* have proposed in <a href='http://www.firstmonday.dk/ojs/index.php/fm/article/view/2317/2063'>this</a> paper that the \"hidden network\" of reciprocal ties resembles a social network where a tie indicates mutual awareness.\n",
    "\n",
    "Get the indegrees (number of mentioners) for the directed graph:"
   ]
  },
  {
   "cell_type": "code",
   "execution_count": null,
   "metadata": {},
   "outputs": [],
   "source": [
    "mentioning_indegree = dict(D_mentioning.in_degree())"
   ]
  },
  {
   "cell_type": "code",
   "execution_count": null,
   "metadata": {},
   "outputs": [],
   "source": [
    "for key, value in mentioning_indegree.items():\n",
    "    D_mentioning.nodes[key]['indegree'] = value"
   ]
  },
  {
   "cell_type": "code",
   "execution_count": null,
   "metadata": {},
   "outputs": [],
   "source": [
    "mentioning_indegree = [k['indegree'] for (u, k) in D_mentioning.nodes(data=True)]"
   ]
  },
  {
   "cell_type": "markdown",
   "metadata": {},
   "source": [
    "Create an undirected graph and get the degrees (number of mentioned mentioners):"
   ]
  },
  {
   "cell_type": "code",
   "execution_count": null,
   "metadata": {},
   "outputs": [],
   "source": [
    "G_mentioning = D_mentioning.to_undirected(reciprocal=True)"
   ]
  },
  {
   "cell_type": "code",
   "execution_count": null,
   "metadata": {},
   "outputs": [],
   "source": [
    "mentioning_degree = dict(G_mentioning.degree())"
   ]
  },
  {
   "cell_type": "code",
   "execution_count": null,
   "metadata": {},
   "outputs": [],
   "source": [
    "for key, value in mentioning_degree.items():\n",
    "    G_mentioning.nodes[key]['degree'] = value"
   ]
  },
  {
   "cell_type": "code",
   "execution_count": null,
   "metadata": {},
   "outputs": [],
   "source": [
    "mentioning_degree = [k['degree'] for (u, k) in G_mentioning.nodes(data=True)]"
   ]
  },
  {
   "cell_type": "markdown",
   "metadata": {},
   "source": [
    "Store information in a dataframe and do a scatterplot:"
   ]
  },
  {
   "cell_type": "code",
   "execution_count": null,
   "metadata": {},
   "outputs": [],
   "source": [
    "politicians_mentioners = pd.DataFrame({\n",
    "    'agent': list(nx.get_node_attributes(G_mentioning, 'agent').values()),\n",
    "    'indegree': list(nx.get_node_attributes(G_mentioning, 'indegree').values()),\n",
    "    'degree': list(nx.get_node_attributes(G_mentioning, 'degree').values())\n",
    "})\n",
    "politicians_mentioners = politicians_mentioners[(politicians_mentioners['degree'] > 0) & (politicians_mentioners['indegree'] > 0)]\n",
    "politicians_mentioners.head()"
   ]
  },
  {
   "cell_type": "code",
   "execution_count": null,
   "metadata": {},
   "outputs": [],
   "source": [
    "plt.scatter(politicians_mentioners['indegree'], politicians_mentioners['degree'])\n",
    "plt.xlabel('Number of Mentioners')\n",
    "plt.ylabel('Number of Mentioned Mentioners')\n",
    "plt.xscale('log')\n",
    "plt.yscale('log')"
   ]
  },
  {
   "cell_type": "markdown",
   "metadata": {},
   "source": [
    "Plot the hidden network:"
   ]
  },
  {
   "cell_type": "code",
   "execution_count": null,
   "metadata": {},
   "outputs": [],
   "source": [
    "G_mentioning_giant = max(nx.connected_component_subgraphs(G_mentioning), key=len)\n",
    "pos_mentioning_giant = nx.spring_layout(D_mentioning, k=0.1, iterations=200)\n",
    "plt.figure(figsize=(6, 6))\n",
    "nx.draw(G_mentioning_giant, pos=pos_mentioning_giant, node_size=mentioning_inweight, node_color=politicians_color_mentioning)"
   ]
  },
  {
   "cell_type": "markdown",
   "metadata": {},
   "source": [
    "Some basic graph statistics:"
   ]
  },
  {
   "cell_type": "code",
   "execution_count": null,
   "metadata": {},
   "outputs": [],
   "source": [
    "n = nx.number_of_nodes(G_mentioning_giant)\n",
    "print('Number of nodes:', n)\n",
    "m = nx.number_of_edges(G_mentioning_giant)\n",
    "print('Number of edges:', m)\n",
    "d = nx.density(G_mentioning_giant)\n",
    "print('Density:', d)\n",
    "print('Average degree:', np.mean(mentioning_degree))\n",
    "print('Degree correlation:', nx.degree_assortativity_coefficient(G_mentioning_giant))\n",
    "c = np.mean(list(nx.clustering(G_mentioning_giant).values()))\n",
    "print('Average clustering coefficient:', c)\n",
    "l = nx.average_shortest_path_length(G_mentioning_giant)\n",
    "print('Average shortest path length:', l)\n",
    "print('Diameter:', nx.diameter(G_mentioning_giant))"
   ]
  },
  {
   "cell_type": "markdown",
   "metadata": {},
   "source": [
    "A primer on small-world networks:\n",
    "\n",
    "<a href=''>Small-world networks</a> are another paradigmatic class of graphs in network science. A network is a small world if it has two properties at the same time. First, it has the property of highly ordered networks that a node's neighbors are strongly connected among themselves (high average clustering coefficient). Second, it has the property of highly disordered networks that nodes have low degrees of seperation (low average shortest path length).\n",
    "\n",
    "The small-world property is important because it quantifies the co-presence of two central characteristics of mature social systems."
   ]
  },
  {
   "cell_type": "code",
   "execution_count": null,
   "metadata": {},
   "outputs": [],
   "source": [
    "c_random = []\n",
    "l_random = []\n",
    "for i in range(1, 10):\n",
    "    G_random = nx.erdos_renyi_graph(n, d)\n",
    "    G_random_giant = max(nx.connected_component_subgraphs(G_random), key=len)\n",
    "    c_random.append(np.mean(list(nx.clustering(G_random).values())))\n",
    "    l_random.append(nx.average_shortest_path_length(G_random_giant))\n",
    "c_random = np.mean(c_random)\n",
    "l_random = np.mean(l_random)"
   ]
  },
  {
   "cell_type": "code",
   "execution_count": null,
   "metadata": {},
   "outputs": [],
   "source": [
    "print('Observed average clustering coefficient:', round(c, 2))\n",
    "print('Expected average clustering coefficient:', round(c_random, 2))\n",
    "print('Observed average shortest path length:', round(l, 2))\n",
    "print('Expected average shortest path length:', round(l_random, 2))\n",
    "print('Small-world coefficient:', int(round((c/c_random)/(l/l_random), 0)))"
   ]
  }
 ],
 "metadata": {
  "kernelspec": {
   "display_name": "Python 3",
   "language": "python",
   "name": "python3"
  },
  "language_info": {
   "codemirror_mode": {
    "name": "ipython",
    "version": 3
   },
   "file_extension": ".py",
   "mimetype": "text/x-python",
   "name": "python",
   "nbconvert_exporter": "python",
   "pygments_lexer": "ipython3",
   "version": "3.6.5"
  },
  "toc": {
   "colors": {
    "hover_highlight": "#DAA520",
    "navigate_num": "#000000",
    "navigate_text": "#333333",
    "running_highlight": "#FF0000",
    "selected_highlight": "#FFD700",
    "sidebar_border": "#EEEEEE",
    "wrapper_background": "#FFFFFF"
   },
   "moveMenuLeft": true,
   "nav_menu": {
    "height": "351px",
    "width": "252px"
   },
   "navigate_menu": true,
   "number_sections": true,
   "sideBar": true,
   "threshold": 4,
   "toc_cell": false,
   "toc_section_display": "block",
   "toc_window_display": false,
   "widenNotebook": false
  },
  "varInspector": {
   "cols": {
    "lenName": 16,
    "lenType": 16,
    "lenVar": 40
   },
   "kernels_config": {
    "python": {
     "delete_cmd_postfix": "",
     "delete_cmd_prefix": "del ",
     "library": "var_list.py",
     "varRefreshCmd": "print(var_dic_list())"
    },
    "r": {
     "delete_cmd_postfix": ") ",
     "delete_cmd_prefix": "rm(",
     "library": "var_list.r",
     "varRefreshCmd": "cat(var_dic_list()) "
    }
   },
   "types_to_exclude": [
    "module",
    "function",
    "builtin_function_or_method",
    "instance",
    "_Feature"
   ],
   "window_display": false
  }
 },
 "nbformat": 4,
 "nbformat_minor": 2
}

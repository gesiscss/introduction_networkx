{
 "cells": [
  {
   "cell_type": "markdown",
   "metadata": {
    "collapsed": true
   },
   "source": [
    "# Introduction to Network Analysis Using Python's Networkx Library\n",
    "**Author**: <a href='https://www.gesis.org/person/haiko.lietz'>Haiko Lietz</a>, GESIS - Leibniz Institute for the Social Sciences\n",
    "\n",
    "**Version**: 26 July 2019\n",
    "\n",
    "**Description**: This is an introduction to network analysis in Python using version 2.3 of the <a href='https://networkx.github.io/'>networkx</a> library. <a href='https://networkx.github.io/'>networkx</a> is part of the standard Anaconda installation and therefore easy to install, offers many functions for network analysis, is frequently extended, and has a large user community. For large networks, consider <a href='https://graph-tool.skewed.de/'>graph-tool</a> or <a href='http://igraph.org/python/'>igraph</a>. Consult <a href='https://doi.org/10.1177/2059799115622763'>this paper</a> for a comparison of these packages and why Python is good for scientific computing. If you're looking for another introduction into <a href='https://networkx.github.io/'>networkx</a>, try the <a href='https://networkx.github.io/documentation/stable/tutorial.html'>official tutorial</a>.\n",
    "## Imports and Settings"
   ]
  },
  {
   "cell_type": "code",
   "execution_count": 1,
   "metadata": {},
   "outputs": [],
   "source": [
    "%matplotlib inline"
   ]
  },
  {
   "cell_type": "code",
   "execution_count": 2,
   "metadata": {},
   "outputs": [],
   "source": [
    "import warnings\n",
    "import networkx as nx\n",
    "import matplotlib.pyplot as plt\n",
    "import pandas as pd\n",
    "import powerlaw as pl\n",
    "import numpy as np\n",
    "from networkx.algorithms import bipartite"
   ]
  },
  {
   "cell_type": "code",
   "execution_count": 3,
   "metadata": {},
   "outputs": [],
   "source": [
    "warnings.filterwarnings('ignore')"
   ]
  },
  {
   "cell_type": "markdown",
   "metadata": {},
   "source": [
    "## Graph Construction\n",
    "Terminology: Graphs consist of nodes (entities like persons or hashtags) and edges that connect nodes. By definition, an edge is defined by a pair of nodes. Both nodes and edges can have properties, and we will be using size and color for nodes and width and color for edges. If edges are directed, the graph is called a ``DiGraph``.\n",
    "\n",
    "Create an empty graph:"
   ]
  },
  {
   "cell_type": "code",
   "execution_count": 4,
   "metadata": {},
   "outputs": [],
   "source": [
    "G = nx.Graph()"
   ]
  },
  {
   "cell_type": "markdown",
   "metadata": {},
   "source": [
    "To create a directed graph:"
   ]
  },
  {
   "cell_type": "code",
   "execution_count": 5,
   "metadata": {},
   "outputs": [],
   "source": [
    "D = nx.DiGraph()"
   ]
  },
  {
   "cell_type": "markdown",
   "metadata": {},
   "source": [
    "### Populate Graph Using Labels\n",
    "Add nodes:"
   ]
  },
  {
   "cell_type": "code",
   "execution_count": 6,
   "metadata": {},
   "outputs": [],
   "source": [
    "nodes_label = (['Alice', 'Bob', 'Carol'])\n",
    "G.add_nodes_from(nodes_label)"
   ]
  },
  {
   "cell_type": "code",
   "execution_count": 7,
   "metadata": {},
   "outputs": [
    {
     "data": {
      "text/plain": [
       "NodeView(('Alice', 'Bob', 'Carol'))"
      ]
     },
     "execution_count": 7,
     "metadata": {},
     "output_type": "execute_result"
    }
   ],
   "source": [
    "G.nodes()"
   ]
  },
  {
   "cell_type": "markdown",
   "metadata": {},
   "source": [
    "Alternatively:"
   ]
  },
  {
   "cell_type": "code",
   "execution_count": 8,
   "metadata": {},
   "outputs": [],
   "source": [
    "for label in nodes_label:\n",
    "    G.add_node(label)"
   ]
  },
  {
   "cell_type": "code",
   "execution_count": 9,
   "metadata": {},
   "outputs": [
    {
     "data": {
      "text/plain": [
       "NodeView(('Alice', 'Bob', 'Carol'))"
      ]
     },
     "execution_count": 9,
     "metadata": {},
     "output_type": "execute_result"
    }
   ],
   "source": [
    "G.nodes()"
   ]
  },
  {
   "cell_type": "markdown",
   "metadata": {},
   "source": [
    "Add edges:"
   ]
  },
  {
   "cell_type": "code",
   "execution_count": 10,
   "metadata": {},
   "outputs": [],
   "source": [
    "edges_label = [['Alice', 'Bob'], ['Bob', 'Carol'], ['Alice', 'Carol']]\n",
    "G.add_edges_from(edges_label)"
   ]
  },
  {
   "cell_type": "code",
   "execution_count": 11,
   "metadata": {},
   "outputs": [
    {
     "data": {
      "text/plain": [
       "EdgeView([('Alice', 'Bob'), ('Alice', 'Carol'), ('Bob', 'Carol')])"
      ]
     },
     "execution_count": 11,
     "metadata": {},
     "output_type": "execute_result"
    }
   ],
   "source": [
    "G.edges()"
   ]
  },
  {
   "cell_type": "markdown",
   "metadata": {},
   "source": [
    "Alternatively:"
   ]
  },
  {
   "cell_type": "code",
   "execution_count": 12,
   "metadata": {},
   "outputs": [],
   "source": [
    "for edge in range(0, len(edges_label)):\n",
    "    G.add_edge(edges_label[edge][0], edges_label[edge][1])"
   ]
  },
  {
   "cell_type": "code",
   "execution_count": 13,
   "metadata": {},
   "outputs": [
    {
     "data": {
      "text/plain": [
       "EdgeView([('Alice', 'Bob'), ('Alice', 'Carol'), ('Bob', 'Carol')])"
      ]
     },
     "execution_count": 13,
     "metadata": {},
     "output_type": "execute_result"
    }
   ],
   "source": [
    "G.edges()"
   ]
  },
  {
   "cell_type": "markdown",
   "metadata": {},
   "source": [
    "Obtain graph with integer labels:"
   ]
  },
  {
   "cell_type": "code",
   "execution_count": 14,
   "metadata": {},
   "outputs": [],
   "source": [
    "H = nx.convert_node_labels_to_integers(G)"
   ]
  },
  {
   "cell_type": "code",
   "execution_count": 15,
   "metadata": {},
   "outputs": [
    {
     "data": {
      "text/plain": [
       "NodeView((0, 1, 2))"
      ]
     },
     "execution_count": 15,
     "metadata": {},
     "output_type": "execute_result"
    }
   ],
   "source": [
    "H.nodes()"
   ]
  },
  {
   "cell_type": "code",
   "execution_count": 16,
   "metadata": {},
   "outputs": [
    {
     "data": {
      "text/plain": [
       "EdgeView([(0, 1), (0, 2), (1, 2)])"
      ]
     },
     "execution_count": 16,
     "metadata": {},
     "output_type": "execute_result"
    }
   ],
   "source": [
    "H.edges()"
   ]
  },
  {
   "cell_type": "markdown",
   "metadata": {},
   "source": [
    "### Populate Graph Using Integers"
   ]
  },
  {
   "cell_type": "code",
   "execution_count": 17,
   "metadata": {},
   "outputs": [],
   "source": [
    "G = nx.Graph()"
   ]
  },
  {
   "cell_type": "code",
   "execution_count": 18,
   "metadata": {},
   "outputs": [],
   "source": [
    "nodes = ([0, 1, 2])\n",
    "G.add_nodes_from(nodes)"
   ]
  },
  {
   "cell_type": "code",
   "execution_count": 19,
   "metadata": {},
   "outputs": [
    {
     "data": {
      "text/plain": [
       "NodeView((0, 1, 2))"
      ]
     },
     "execution_count": 19,
     "metadata": {},
     "output_type": "execute_result"
    }
   ],
   "source": [
    "G.nodes()"
   ]
  },
  {
   "cell_type": "code",
   "execution_count": 20,
   "metadata": {},
   "outputs": [],
   "source": [
    "edges = [[0, 1], [0, 2], [1, 2]]\n",
    "G.add_edges_from(edges)"
   ]
  },
  {
   "cell_type": "code",
   "execution_count": 21,
   "metadata": {},
   "outputs": [
    {
     "data": {
      "text/plain": [
       "EdgeView([(0, 1), (0, 2), (1, 2)])"
      ]
     },
     "execution_count": 21,
     "metadata": {},
     "output_type": "execute_result"
    }
   ],
   "source": [
    "G.edges()"
   ]
  },
  {
   "cell_type": "markdown",
   "metadata": {},
   "source": [
    "Add labels to nodes:"
   ]
  },
  {
   "cell_type": "code",
   "execution_count": 22,
   "metadata": {},
   "outputs": [],
   "source": [
    "for i in range(0, len(nodes_label)):\n",
    "    G.nodes[i]['label'] = nodes_label[i]"
   ]
  },
  {
   "cell_type": "markdown",
   "metadata": {},
   "source": [
    "To see attributes like labels, set <font face='Courier'>data=True</font>:"
   ]
  },
  {
   "cell_type": "code",
   "execution_count": 23,
   "metadata": {},
   "outputs": [
    {
     "data": {
      "text/plain": [
       "NodeDataView({0: {'label': 'Alice'}, 1: {'label': 'Bob'}, 2: {'label': 'Carol'}})"
      ]
     },
     "execution_count": 23,
     "metadata": {},
     "output_type": "execute_result"
    }
   ],
   "source": [
    "G.nodes(data=True)"
   ]
  },
  {
   "cell_type": "code",
   "execution_count": 24,
   "metadata": {},
   "outputs": [
    {
     "data": {
      "text/plain": [
       "EdgeDataView([(0, 1, {}), (0, 2, {}), (1, 2, {})])"
      ]
     },
     "execution_count": 24,
     "metadata": {},
     "output_type": "execute_result"
    }
   ],
   "source": [
    "G.edges(data=True)"
   ]
  },
  {
   "cell_type": "markdown",
   "metadata": {},
   "source": [
    "Get neighbors of selected nodes:"
   ]
  },
  {
   "cell_type": "code",
   "execution_count": 25,
   "metadata": {},
   "outputs": [
    {
     "data": {
      "text/plain": [
       "[1, 2]"
      ]
     },
     "execution_count": 25,
     "metadata": {},
     "output_type": "execute_result"
    }
   ],
   "source": [
    "list(G.neighbors(0))"
   ]
  },
  {
   "cell_type": "markdown",
   "metadata": {},
   "source": [
    "## Plot Graph\n",
    "Using a circular layout:"
   ]
  },
  {
   "cell_type": "code",
   "execution_count": 26,
   "metadata": {},
   "outputs": [
    {
     "data": {
      "image/png": "[encoded data removed]",
      "text/plain": [
       "<Figure size 144x144 with 1 Axes>"
      ]
     },
     "metadata": {},
     "output_type": "display_data"
    }
   ],
   "source": [
    "plt.figure(figsize=(2, 2))\n",
    "nx.draw_circular(G, with_labels=True)"
   ]
  },
  {
   "cell_type": "markdown",
   "metadata": {},
   "source": [
    "Using the Fruchterman-Reingold spring embedder:"
   ]
  },
  {
   "cell_type": "code",
   "execution_count": 27,
   "metadata": {},
   "outputs": [
    {
     "data": {
      "image/png": "[encoded data removed]",
      "text/plain": [
       "<Figure size 144x144 with 1 Axes>"
      ]
     },
     "metadata": {},
     "output_type": "display_data"
    }
   ],
   "source": [
    "plt.figure(figsize=(2, 2))\n",
    "nx.draw_spring(G, with_labels=True)"
   ]
  },
  {
   "cell_type": "markdown",
   "metadata": {},
   "source": [
    "Create and plot directed graph:"
   ]
  },
  {
   "cell_type": "code",
   "execution_count": 28,
   "metadata": {},
   "outputs": [],
   "source": [
    "D = nx.DiGraph()\n",
    "D.add_edges_from(edges)"
   ]
  },
  {
   "cell_type": "code",
   "execution_count": 29,
   "metadata": {},
   "outputs": [
    {
     "data": {
      "image/png": "[encoded data removed]",
      "text/plain": [
       "<Figure size 144x144 with 1 Axes>"
      ]
     },
     "metadata": {},
     "output_type": "display_data"
    }
   ],
   "source": [
    "plt.figure(figsize=(2, 2))\n",
    "nx.draw_spring(D, with_labels=True)"
   ]
  },
  {
   "cell_type": "markdown",
   "metadata": {},
   "source": [
    "## Bipartite Networks\n",
    "Bipartite networks consist of two types of nodes, and there are no edges among nodes of the same type. Think of ``transactions`` (*e.g.*, tweets) in which ``facts`` (hashtags) are selected (used).\n",
    "\n",
    "![bipartite](img/bipartite.png)\n",
    "\n",
    "Load and visualize bipartite data:"
   ]
  },
  {
   "cell_type": "code",
   "execution_count": 30,
   "metadata": {},
   "outputs": [
    {
     "data": {
      "text/html": [
       "<div>\n",
       "<style scoped>\n",
       "    .dataframe tbody tr th:only-of-type {\n",
       "        vertical-align: middle;\n",
       "    }\n",
       "\n",
       "    .dataframe tbody tr th {\n",
       "        vertical-align: top;\n",
       "    }\n",
       "\n",
       "    .dataframe thead th {\n",
       "        text-align: right;\n",
       "    }\n",
       "</style>\n",
       "<table border=\"1\" class=\"dataframe\">\n",
       "  <thead>\n",
       "    <tr style=\"text-align: right;\">\n",
       "      <th></th>\n",
       "      <th>agent</th>\n",
       "      <th>fact</th>\n",
       "    </tr>\n",
       "  </thead>\n",
       "  <tbody>\n",
       "    <tr>\n",
       "      <th>0</th>\n",
       "      <td>a1</td>\n",
       "      <td>f1</td>\n",
       "    </tr>\n",
       "    <tr>\n",
       "      <th>1</th>\n",
       "      <td>a1</td>\n",
       "      <td>f2</td>\n",
       "    </tr>\n",
       "    <tr>\n",
       "      <th>2</th>\n",
       "      <td>a1</td>\n",
       "      <td>f3</td>\n",
       "    </tr>\n",
       "    <tr>\n",
       "      <th>3</th>\n",
       "      <td>a1</td>\n",
       "      <td>f4</td>\n",
       "    </tr>\n",
       "    <tr>\n",
       "      <th>4</th>\n",
       "      <td>a1</td>\n",
       "      <td>f5</td>\n",
       "    </tr>\n",
       "    <tr>\n",
       "      <th>5</th>\n",
       "      <td>a2</td>\n",
       "      <td>f3</td>\n",
       "    </tr>\n",
       "    <tr>\n",
       "      <th>6</th>\n",
       "      <td>a2</td>\n",
       "      <td>f4</td>\n",
       "    </tr>\n",
       "    <tr>\n",
       "      <th>7</th>\n",
       "      <td>a2</td>\n",
       "      <td>f5</td>\n",
       "    </tr>\n",
       "    <tr>\n",
       "      <th>8</th>\n",
       "      <td>a2</td>\n",
       "      <td>f6</td>\n",
       "    </tr>\n",
       "    <tr>\n",
       "      <th>9</th>\n",
       "      <td>a3</td>\n",
       "      <td>f5</td>\n",
       "    </tr>\n",
       "    <tr>\n",
       "      <th>10</th>\n",
       "      <td>a3</td>\n",
       "      <td>f6</td>\n",
       "    </tr>\n",
       "    <tr>\n",
       "      <th>11</th>\n",
       "      <td>a3</td>\n",
       "      <td>f7</td>\n",
       "    </tr>\n",
       "    <tr>\n",
       "      <th>12</th>\n",
       "      <td>a4</td>\n",
       "      <td>f7</td>\n",
       "    </tr>\n",
       "    <tr>\n",
       "      <th>13</th>\n",
       "      <td>a4</td>\n",
       "      <td>f8</td>\n",
       "    </tr>\n",
       "    <tr>\n",
       "      <th>14</th>\n",
       "      <td>a5</td>\n",
       "      <td>f9</td>\n",
       "    </tr>\n",
       "  </tbody>\n",
       "</table>\n",
       "</div>"
      ],
      "text/plain": [
       "   agent fact\n",
       "0     a1   f1\n",
       "1     a1   f2\n",
       "2     a1   f3\n",
       "3     a1   f4\n",
       "4     a1   f5\n",
       "5     a2   f3\n",
       "6     a2   f4\n",
       "7     a2   f5\n",
       "8     a2   f6\n",
       "9     a3   f5\n",
       "10    a3   f6\n",
       "11    a3   f7\n",
       "12    a4   f7\n",
       "13    a4   f8\n",
       "14    a5   f9"
      ]
     },
     "execution_count": 30,
     "metadata": {},
     "output_type": "execute_result"
    }
   ],
   "source": [
    "edgelist = pd.read_csv('data/bipartite.txt', header='infer', delimiter='\\t', encoding='utf-8')\n",
    "edgelist"
   ]
  },
  {
   "cell_type": "markdown",
   "metadata": {},
   "source": [
    "Use edgelist to create graph -- note that we can't use the dataframe but have to transform it into an array by calling ``edgelist.array``:"
   ]
  },
  {
   "cell_type": "code",
   "execution_count": 31,
   "metadata": {},
   "outputs": [],
   "source": [
    "G = nx.Graph()\n",
    "G.add_edges_from(edgelist.values)"
   ]
  },
  {
   "cell_type": "markdown",
   "metadata": {},
   "source": [
    "Manually set node positions:"
   ]
  },
  {
   "cell_type": "code",
   "execution_count": 32,
   "metadata": {},
   "outputs": [],
   "source": [
    "pos_bipartite = {'a1': np.array([-0.33333333,  0.66666667]),\n",
    " 'a2': np.array([-0.33333333,  0.33333333]),\n",
    " 'a3': np.array([-0.33333333,  0.        ]),\n",
    " 'a4': np.array([-0.33333333, -0.33333333]),\n",
    " 'a5': np.array([-0.33333333, -0.66666667]),\n",
    " 'f1': np.array([ 0.33333333,  0.80000000]),\n",
    " 'f2': np.array([ 0.33333333,  0.60000000]),\n",
    " 'f3': np.array([ 0.33333333,  0.40000000]),\n",
    " 'f4': np.array([ 0.33333333,  0.20000000]),\n",
    " 'f5': np.array([ 0.33333333,  0.        ]),\n",
    " 'f6': np.array([ 0.33333333, -0.20000000]),\n",
    " 'f7': np.array([ 0.33333333, -0.40000000]),\n",
    " 'f8': np.array([ 0.33333333, -0.60000000]),\n",
    " 'f9': np.array([ 0.33333333, -0.80000000])}"
   ]
  },
  {
   "cell_type": "code",
   "execution_count": 33,
   "metadata": {},
   "outputs": [
    {
     "data": {
      "text/plain": [
       "NodeView(('a1', 'f1', 'f2', 'f3', 'f4', 'f5', 'a2', 'f6', 'a3', 'f7', 'a4', 'f8', 'a5', 'f9'))"
      ]
     },
     "execution_count": 33,
     "metadata": {},
     "output_type": "execute_result"
    }
   ],
   "source": [
    "G.nodes()"
   ]
  },
  {
   "cell_type": "code",
   "execution_count": 34,
   "metadata": {},
   "outputs": [
    {
     "data": {
      "image/png": "[encoded data removed]",
      "text/plain": [
       "<Figure size 216x216 with 1 Axes>"
      ]
     },
     "metadata": {},
     "output_type": "display_data"
    }
   ],
   "source": [
    "plt.figure(figsize = (3, 3))\n",
    "nx.draw(G, pos=pos_bipartite, with_labels=True, node_color='w')"
   ]
  },
  {
   "cell_type": "markdown",
   "metadata": {},
   "source": [
    "Bipartite networks can be projected into unipartite networks. To do that, the two node sets of the bipartite matrix must be \"colored\", *i.e.* the two partitions must be identified:"
   ]
  },
  {
   "cell_type": "code",
   "execution_count": 35,
   "metadata": {},
   "outputs": [],
   "source": [
    "#transactions, facts = bipartite.sets(G)"
   ]
  },
  {
   "cell_type": "markdown",
   "metadata": {},
   "source": [
    "The ``sets()`` function called in the previous cell can be used to identify the two node sets if the graph is connected."
   ]
  },
  {
   "cell_type": "code",
   "execution_count": 36,
   "metadata": {},
   "outputs": [
    {
     "data": {
      "text/plain": [
       "False"
      ]
     },
     "execution_count": 36,
     "metadata": {},
     "output_type": "execute_result"
    }
   ],
   "source": [
    "nx.is_connected(G)"
   ]
  },
  {
   "cell_type": "markdown",
   "metadata": {},
   "source": [
    "Create sets manually:"
   ]
  },
  {
   "cell_type": "code",
   "execution_count": 37,
   "metadata": {},
   "outputs": [
    {
     "ename": "KeyError",
     "evalue": "'transaction'",
     "output_type": "error",
     "traceback": [
      "\u001b[0;31m---------------------------------------------------------------------------\u001b[0m",
      "\u001b[0;31mKeyError\u001b[0m                                  Traceback (most recent call last)",
      "\u001b[0;32m/srv/conda/envs/notebook/lib/python3.7/site-packages/pandas/core/indexes/base.py\u001b[0m in \u001b[0;36mget_loc\u001b[0;34m(self, key, method, tolerance)\u001b[0m\n\u001b[1;32m   2889\u001b[0m             \u001b[0;32mtry\u001b[0m\u001b[0;34m:\u001b[0m\u001b[0;34m\u001b[0m\u001b[0;34m\u001b[0m\u001b[0m\n\u001b[0;32m-> 2890\u001b[0;31m                 \u001b[0;32mreturn\u001b[0m \u001b[0mself\u001b[0m\u001b[0;34m.\u001b[0m\u001b[0m_engine\u001b[0m\u001b[0;34m.\u001b[0m\u001b[0mget_loc\u001b[0m\u001b[0;34m(\u001b[0m\u001b[0mkey\u001b[0m\u001b[0;34m)\u001b[0m\u001b[0;34m\u001b[0m\u001b[0;34m\u001b[0m\u001b[0m\n\u001b[0m\u001b[1;32m   2891\u001b[0m             \u001b[0;32mexcept\u001b[0m \u001b[0mKeyError\u001b[0m\u001b[0;34m:\u001b[0m\u001b[0;34m\u001b[0m\u001b[0;34m\u001b[0m\u001b[0m\n",
      "\u001b[0;32mpandas/_libs/index.pyx\u001b[0m in \u001b[0;36mpandas._libs.index.IndexEngine.get_loc\u001b[0;34m()\u001b[0m\n",
      "\u001b[0;32mpandas/_libs/index.pyx\u001b[0m in \u001b[0;36mpandas._libs.index.IndexEngine.get_loc\u001b[0;34m()\u001b[0m\n",
      "\u001b[0;32mpandas/_libs/hashtable_class_helper.pxi\u001b[0m in \u001b[0;36mpandas._libs.hashtable.PyObjectHashTable.get_item\u001b[0;34m()\u001b[0m\n",
      "\u001b[0;32mpandas/_libs/hashtable_class_helper.pxi\u001b[0m in \u001b[0;36mpandas._libs.hashtable.PyObjectHashTable.get_item\u001b[0;34m()\u001b[0m\n",
      "\u001b[0;31mKeyError\u001b[0m: 'transaction'",
      "\nDuring handling of the above exception, another exception occurred:\n",
      "\u001b[0;31mKeyError\u001b[0m                                  Traceback (most recent call last)",
      "\u001b[0;32m<ipython-input-37-48c501903f1a>\u001b[0m in \u001b[0;36m<module>\u001b[0;34m\u001b[0m\n\u001b[0;32m----> 1\u001b[0;31m \u001b[0mtransactions\u001b[0m\u001b[0;34m,\u001b[0m \u001b[0mfacts\u001b[0m \u001b[0;34m=\u001b[0m \u001b[0mset\u001b[0m\u001b[0;34m(\u001b[0m\u001b[0medgelist\u001b[0m\u001b[0;34m[\u001b[0m\u001b[0;34m'transaction'\u001b[0m\u001b[0;34m]\u001b[0m\u001b[0;34m)\u001b[0m\u001b[0;34m,\u001b[0m \u001b[0mset\u001b[0m\u001b[0;34m(\u001b[0m\u001b[0medgelist\u001b[0m\u001b[0;34m[\u001b[0m\u001b[0;34m'fact'\u001b[0m\u001b[0;34m]\u001b[0m\u001b[0;34m)\u001b[0m\u001b[0;34m\u001b[0m\u001b[0;34m\u001b[0m\u001b[0m\n\u001b[0m",
      "\u001b[0;32m/srv/conda/envs/notebook/lib/python3.7/site-packages/pandas/core/frame.py\u001b[0m in \u001b[0;36m__getitem__\u001b[0;34m(self, key)\u001b[0m\n\u001b[1;32m   2973\u001b[0m             \u001b[0;32mif\u001b[0m \u001b[0mself\u001b[0m\u001b[0;34m.\u001b[0m\u001b[0mcolumns\u001b[0m\u001b[0;34m.\u001b[0m\u001b[0mnlevels\u001b[0m \u001b[0;34m>\u001b[0m \u001b[0;36m1\u001b[0m\u001b[0;34m:\u001b[0m\u001b[0;34m\u001b[0m\u001b[0;34m\u001b[0m\u001b[0m\n\u001b[1;32m   2974\u001b[0m                 \u001b[0;32mreturn\u001b[0m \u001b[0mself\u001b[0m\u001b[0;34m.\u001b[0m\u001b[0m_getitem_multilevel\u001b[0m\u001b[0;34m(\u001b[0m\u001b[0mkey\u001b[0m\u001b[0;34m)\u001b[0m\u001b[0;34m\u001b[0m\u001b[0;34m\u001b[0m\u001b[0m\n\u001b[0;32m-> 2975\u001b[0;31m             \u001b[0mindexer\u001b[0m \u001b[0;34m=\u001b[0m \u001b[0mself\u001b[0m\u001b[0;34m.\u001b[0m\u001b[0mcolumns\u001b[0m\u001b[0;34m.\u001b[0m\u001b[0mget_loc\u001b[0m\u001b[0;34m(\u001b[0m\u001b[0mkey\u001b[0m\u001b[0;34m)\u001b[0m\u001b[0;34m\u001b[0m\u001b[0;34m\u001b[0m\u001b[0m\n\u001b[0m\u001b[1;32m   2976\u001b[0m             \u001b[0;32mif\u001b[0m \u001b[0mis_integer\u001b[0m\u001b[0;34m(\u001b[0m\u001b[0mindexer\u001b[0m\u001b[0;34m)\u001b[0m\u001b[0;34m:\u001b[0m\u001b[0;34m\u001b[0m\u001b[0;34m\u001b[0m\u001b[0m\n\u001b[1;32m   2977\u001b[0m                 \u001b[0mindexer\u001b[0m \u001b[0;34m=\u001b[0m \u001b[0;34m[\u001b[0m\u001b[0mindexer\u001b[0m\u001b[0;34m]\u001b[0m\u001b[0;34m\u001b[0m\u001b[0;34m\u001b[0m\u001b[0m\n",
      "\u001b[0;32m/srv/conda/envs/notebook/lib/python3.7/site-packages/pandas/core/indexes/base.py\u001b[0m in \u001b[0;36mget_loc\u001b[0;34m(self, key, method, tolerance)\u001b[0m\n\u001b[1;32m   2890\u001b[0m                 \u001b[0;32mreturn\u001b[0m \u001b[0mself\u001b[0m\u001b[0;34m.\u001b[0m\u001b[0m_engine\u001b[0m\u001b[0;34m.\u001b[0m\u001b[0mget_loc\u001b[0m\u001b[0;34m(\u001b[0m\u001b[0mkey\u001b[0m\u001b[0;34m)\u001b[0m\u001b[0;34m\u001b[0m\u001b[0;34m\u001b[0m\u001b[0m\n\u001b[1;32m   2891\u001b[0m             \u001b[0;32mexcept\u001b[0m \u001b[0mKeyError\u001b[0m\u001b[0;34m:\u001b[0m\u001b[0;34m\u001b[0m\u001b[0;34m\u001b[0m\u001b[0m\n\u001b[0;32m-> 2892\u001b[0;31m                 \u001b[0;32mreturn\u001b[0m \u001b[0mself\u001b[0m\u001b[0;34m.\u001b[0m\u001b[0m_engine\u001b[0m\u001b[0;34m.\u001b[0m\u001b[0mget_loc\u001b[0m\u001b[0;34m(\u001b[0m\u001b[0mself\u001b[0m\u001b[0;34m.\u001b[0m\u001b[0m_maybe_cast_indexer\u001b[0m\u001b[0;34m(\u001b[0m\u001b[0mkey\u001b[0m\u001b[0;34m)\u001b[0m\u001b[0;34m)\u001b[0m\u001b[0;34m\u001b[0m\u001b[0;34m\u001b[0m\u001b[0m\n\u001b[0m\u001b[1;32m   2893\u001b[0m         \u001b[0mindexer\u001b[0m \u001b[0;34m=\u001b[0m \u001b[0mself\u001b[0m\u001b[0;34m.\u001b[0m\u001b[0mget_indexer\u001b[0m\u001b[0;34m(\u001b[0m\u001b[0;34m[\u001b[0m\u001b[0mkey\u001b[0m\u001b[0;34m]\u001b[0m\u001b[0;34m,\u001b[0m \u001b[0mmethod\u001b[0m\u001b[0;34m=\u001b[0m\u001b[0mmethod\u001b[0m\u001b[0;34m,\u001b[0m \u001b[0mtolerance\u001b[0m\u001b[0;34m=\u001b[0m\u001b[0mtolerance\u001b[0m\u001b[0;34m)\u001b[0m\u001b[0;34m\u001b[0m\u001b[0;34m\u001b[0m\u001b[0m\n\u001b[1;32m   2894\u001b[0m         \u001b[0;32mif\u001b[0m \u001b[0mindexer\u001b[0m\u001b[0;34m.\u001b[0m\u001b[0mndim\u001b[0m \u001b[0;34m>\u001b[0m \u001b[0;36m1\u001b[0m \u001b[0;32mor\u001b[0m \u001b[0mindexer\u001b[0m\u001b[0;34m.\u001b[0m\u001b[0msize\u001b[0m \u001b[0;34m>\u001b[0m \u001b[0;36m1\u001b[0m\u001b[0;34m:\u001b[0m\u001b[0;34m\u001b[0m\u001b[0;34m\u001b[0m\u001b[0m\n",
      "\u001b[0;32mpandas/_libs/index.pyx\u001b[0m in \u001b[0;36mpandas._libs.index.IndexEngine.get_loc\u001b[0;34m()\u001b[0m\n",
      "\u001b[0;32mpandas/_libs/index.pyx\u001b[0m in \u001b[0;36mpandas._libs.index.IndexEngine.get_loc\u001b[0;34m()\u001b[0m\n",
      "\u001b[0;32mpandas/_libs/hashtable_class_helper.pxi\u001b[0m in \u001b[0;36mpandas._libs.hashtable.PyObjectHashTable.get_item\u001b[0;34m()\u001b[0m\n",
      "\u001b[0;32mpandas/_libs/hashtable_class_helper.pxi\u001b[0m in \u001b[0;36mpandas._libs.hashtable.PyObjectHashTable.get_item\u001b[0;34m()\u001b[0m\n",
      "\u001b[0;31mKeyError\u001b[0m: 'transaction'"
     ]
    }
   ],
   "source": [
    "transactions, facts = set(edgelist['transaction']), set(edgelist['fact'])"
   ]
  },
  {
   "cell_type": "code",
   "execution_count": null,
   "metadata": {},
   "outputs": [],
   "source": [
    "transactions, facts"
   ]
  },
  {
   "cell_type": "markdown",
   "metadata": {},
   "source": [
    "Create the transaction co-fact graph. An edge gives the number of facts a pair of transactions is co-selecting:"
   ]
  },
  {
   "cell_type": "code",
   "execution_count": null,
   "metadata": {},
   "outputs": [],
   "source": [
    "G_transactions = bipartite.weighted_projected_graph(G, transactions)\n",
    "G_transactions.edges(data=True)"
   ]
  },
  {
   "cell_type": "markdown",
   "metadata": {},
   "source": [
    "Extract edge weights by taking the EdgeView object, looping through the edge/weight tuple, and extracting the weight:"
   ]
  },
  {
   "cell_type": "code",
   "execution_count": null,
   "metadata": {},
   "outputs": [],
   "source": [
    "co_facts = [w['weight'] for (u, v, w) in G_transactions.edges(data=True)]\n",
    "co_facts"
   ]
  },
  {
   "cell_type": "code",
   "execution_count": null,
   "metadata": {},
   "outputs": [],
   "source": [
    "plt.figure(figsize=(3, 3))\n",
    "nx.draw_circular(G_transactions, with_labels=True, node_color='w', width=co_facts)"
   ]
  },
  {
   "cell_type": "markdown",
   "metadata": {},
   "source": [
    "Create the fact co-transaction graph (an edge gives the number of transactions that co-select a pair of facts), extract edge weights, and draw graph:"
   ]
  },
  {
   "cell_type": "code",
   "execution_count": null,
   "metadata": {},
   "outputs": [],
   "source": [
    "G_facts = bipartite.weighted_projected_graph(G, facts)\n",
    "co_transactions = [w['weight'] for (u, v, w) in G_facts.edges(data=True)]\n",
    "plt.figure(figsize = (3, 3))\n",
    "nx.draw_circular(G_facts, with_labels=True, node_color='w', width=co_transactions)"
   ]
  },
  {
   "cell_type": "markdown",
   "metadata": {},
   "source": [
    "### Duality of Groups and Link Communities\n",
    "Here, we will see how groups in the transaction graph correspond to <a href='https://doi.org/10.1038/nature09182'>link communities</a> in the fact graph. Assume that a1 and a2 are in group 0; a3, a4, and a5 are in group 1 in the agent network. In practice, such a partition would likely result from a clustering algorithm."
   ]
  },
  {
   "cell_type": "code",
   "execution_count": null,
   "metadata": {},
   "outputs": [],
   "source": [
    "transactions_groups = pd.read_csv('data/bipartite_transactions_groups.txt', header='infer', delimiter='\\t', encoding='utf-8')\n",
    "transactions_groups"
   ]
  },
  {
   "cell_type": "markdown",
   "metadata": {},
   "source": [
    "Create a set of agents for each group:"
   ]
  },
  {
   "cell_type": "code",
   "execution_count": null,
   "metadata": {},
   "outputs": [],
   "source": [
    "transactions_group0 = set(transactions_groups[transactions_groups['group'] == 0]['transaction'])\n",
    "transactions_group1 = set(transactions_groups[transactions_groups['group'] == 1]['transaction'])\n",
    "transactions_group0, transactions_group1"
   ]
  },
  {
   "cell_type": "markdown",
   "metadata": {},
   "source": [
    "Transform dataframe into dictionary:"
   ]
  },
  {
   "cell_type": "code",
   "execution_count": null,
   "metadata": {},
   "outputs": [],
   "source": [
    "transactions_groups_dict = transactions_groups.set_index('transaction')['group'].to_dict()\n",
    "transactions_groups_dict"
   ]
  },
  {
   "cell_type": "markdown",
   "metadata": {},
   "source": [
    "Add colors to nodes by iterating through the dictionary:"
   ]
  },
  {
   "cell_type": "code",
   "execution_count": null,
   "metadata": {},
   "outputs": [],
   "source": [
    "G_transactions.nodes(data=True)"
   ]
  },
  {
   "cell_type": "code",
   "execution_count": null,
   "metadata": {},
   "outputs": [],
   "source": [
    "for key, value in transactions_groups_dict.items():\n",
    "    if value == 0:\n",
    "        G_transactions.nodes[key]['color'] = 'r'\n",
    "    if value == 1:\n",
    "        G_transactions.nodes[key]['color'] = 'b'"
   ]
  },
  {
   "cell_type": "code",
   "execution_count": null,
   "metadata": {},
   "outputs": [],
   "source": [
    "G_transactions.nodes(data=True)"
   ]
  },
  {
   "cell_type": "markdown",
   "metadata": {},
   "source": [
    "Store colors in a list:"
   ]
  },
  {
   "cell_type": "code",
   "execution_count": null,
   "metadata": {},
   "outputs": [],
   "source": [
    "transactions_color = [c['color'] for (u, c) in G_transactions.nodes(data=True)]\n",
    "transactions_color"
   ]
  },
  {
   "cell_type": "markdown",
   "metadata": {},
   "source": [
    "Plot transaction graph with colored nodes:"
   ]
  },
  {
   "cell_type": "code",
   "execution_count": null,
   "metadata": {},
   "outputs": [],
   "source": [
    "plt.figure(figsize = (3, 3))\n",
    "nx.draw_circular(G_transactions, with_labels=True, node_color=transactions_color, width=co_facts)"
   ]
  },
  {
   "cell_type": "markdown",
   "metadata": {},
   "source": [
    "Using this information, we can construct a graph of facts where now the edges are colored, indicating the co-selection of facts in a group. The way to go is to create one graph for each group and then use the edges of those layers to populate a multigraph.\n",
    "\n",
    "First, extract an edgelist for each group:"
   ]
  },
  {
   "cell_type": "code",
   "execution_count": null,
   "metadata": {},
   "outputs": [],
   "source": [
    "edgelist_group0 = edgelist[edgelist['transaction'].isin(transactions_group0)]\n",
    "edgelist_group1 = edgelist[edgelist['transaction'].isin(transactions_group1)]\n",
    "edgelist_group0, edgelist_group1"
   ]
  },
  {
   "cell_type": "markdown",
   "metadata": {},
   "source": [
    "Second, create a bipartite graph for each group:"
   ]
  },
  {
   "cell_type": "code",
   "execution_count": null,
   "metadata": {},
   "outputs": [],
   "source": [
    "G_group0 = nx.Graph()\n",
    "G_group0.add_edges_from(edgelist_group0.values)\n",
    "G_group1 = nx.Graph()\n",
    "G_group1.add_edges_from(edgelist_group1.values)"
   ]
  },
  {
   "cell_type": "markdown",
   "metadata": {},
   "source": [
    "Third, create a set of facts for each group -- note the node and edge overlap:"
   ]
  },
  {
   "cell_type": "code",
   "execution_count": null,
   "metadata": {},
   "outputs": [],
   "source": [
    "facts_group0, facts_group1 = set(edgelist_group0['fact']), set(edgelist_group1['fact'])\n",
    "facts_group0, facts_group1"
   ]
  },
  {
   "cell_type": "markdown",
   "metadata": {},
   "source": [
    "Fourth, project each biartite graph into a fact co-transaction graph:"
   ]
  },
  {
   "cell_type": "code",
   "execution_count": null,
   "metadata": {},
   "outputs": [],
   "source": [
    "G_facts_group0 = bipartite.weighted_projected_graph(G_group0, facts_group0)\n",
    "G_facts_group1 = bipartite.weighted_projected_graph(G_group1, facts_group1)"
   ]
  },
  {
   "cell_type": "markdown",
   "metadata": {},
   "source": [
    "Fifth, extract edge weights:"
   ]
  },
  {
   "cell_type": "code",
   "execution_count": null,
   "metadata": {},
   "outputs": [],
   "source": [
    "co_transactions_group0 = [w['weight'] for (u, v, w) in G_facts_group0.edges(data=True)]\n",
    "co_transactions_group1 = [w['weight'] for (u, v, w) in G_facts_group1.edges(data=True)]\n",
    "co_transactions_group0, co_transactions_group1"
   ]
  },
  {
   "cell_type": "markdown",
   "metadata": {},
   "source": [
    "Sixth, create a multigraph (where there can be multiple edges among the same node pair) and populate it using the edges from the two group layers:"
   ]
  },
  {
   "cell_type": "code",
   "execution_count": null,
   "metadata": {},
   "outputs": [],
   "source": [
    "G_facts_groups = nx.MultiGraph()\n",
    "G_facts_groups.add_nodes_from(G_facts.nodes())\n",
    "G_facts_groups.add_edges_from(G_facts_group0.edges(data=True), color='r')\n",
    "G_facts_groups.add_edges_from(G_facts_group1.edges(data=True), color='b')\n",
    "G_facts_groups.edges(data=True)"
   ]
  },
  {
   "cell_type": "markdown",
   "metadata": {},
   "source": [
    "Seventh, extract colors and edge weights for the multigraph. Nodes are not colored because they are selected by transactions both groups (they are neutral regarding groups):"
   ]
  },
  {
   "cell_type": "code",
   "execution_count": null,
   "metadata": {},
   "outputs": [],
   "source": [
    "co_transactions_colors = [c['color'] for (u, v, c) in G_facts_groups.edges(data=True)]\n",
    "co_transactions_groups = [w['weight'] for (u, v, w) in G_facts_groups.edges(data=True)]"
   ]
  },
  {
   "cell_type": "markdown",
   "metadata": {},
   "source": [
    "Finally, plot the multigraph:"
   ]
  },
  {
   "cell_type": "code",
   "execution_count": null,
   "metadata": {},
   "outputs": [],
   "source": [
    "plt.figure(figsize=(3, 3))\n",
    "nx.draw_circular(G_facts_groups, with_labels=True, node_color='w', edge_color=co_transactions_colors, width=co_transactions_groups)"
   ]
  },
  {
   "cell_type": "markdown",
   "metadata": {},
   "source": [
    "Nodes, edges, and labels can also be plotted step by step. This is advantageous if we want to use transparecy solely on the edges:"
   ]
  },
  {
   "cell_type": "code",
   "execution_count": null,
   "metadata": {},
   "outputs": [],
   "source": [
    "pos = nx.circular_layout(G_facts_groups)"
   ]
  },
  {
   "cell_type": "code",
   "execution_count": null,
   "metadata": {},
   "outputs": [],
   "source": [
    "plt.figure(figsize=(3, 3))\n",
    "nx.draw_networkx_nodes(G_facts_groups, pos=pos, node_color='w')\n",
    "nx.draw_networkx_labels(G_facts, pos=pos)\n",
    "nx.draw_networkx_edges(G_facts_groups, pos=pos, edge_color=co_transactions_colors, width=co_transactions_groups, alpha=0.5)\n",
    "plt.axis('off')\n",
    "plt.show()"
   ]
  },
  {
   "cell_type": "markdown",
   "metadata": {},
   "source": [
    "## Use Case: How Politicians Talk On Twitter (Bundestagswahl 2013)\n",
    "Now let's work with empirical data: tweets by German politicians before and after the federal election of 2013. A version of this data was analyzed in <a href='https://www.aaai.org/ocs/index.php/ICWSM/ICWSM14/paper/viewPaper/8069'>this</a> paper.\n",
    "### Structure of Network Data\n",
    "Network data is practically stored as a relational database consisting of entities and their relationships. In this case, there are two types of entities, politicians (agents) and hashtags (facts):"
   ]
  },
  {
   "cell_type": "code",
   "execution_count": null,
   "metadata": {},
   "outputs": [],
   "source": [
    "politicians = pd.read_csv('data/icwsm14_politicians.txt', delimiter='\\t', encoding='utf-8')\n",
    "politicians.head()"
   ]
  },
  {
   "cell_type": "code",
   "execution_count": null,
   "metadata": {},
   "outputs": [],
   "source": [
    "hashtags = pd.read_csv('data/icwsm14_hashtags.txt', delimiter='\\t', encoding='utf-8')\n",
    "hashtags.head()"
   ]
  },
  {
   "cell_type": "markdown",
   "metadata": {},
   "source": [
    "There are three types of relationships, mentioning (of politicians by politicians), retweeting (of politicians by politicians), and tagging (of tweets by politicians). The identifiers of mentioned politicians, retweeted politicians, and used hashtags are stored as facts because they influence agents in their behavior:"
   ]
  },
  {
   "cell_type": "code",
   "execution_count": null,
   "metadata": {},
   "outputs": [],
   "source": [
    "edgelist_mentioning = pd.read_csv('data/icwsm14_mentioning.txt', delimiter='\\t', encoding='utf-8')\n",
    "edgelist_mentioning = edgelist_mentioning[edgelist_mentioning['agent_id'] != edgelist_mentioning['fact_id']]\n",
    "edgelist_mentioning.head()"
   ]
  },
  {
   "cell_type": "code",
   "execution_count": null,
   "metadata": {},
   "outputs": [],
   "source": [
    "edgelist_retweeting = pd.read_csv('data/icwsm14_retweeting.txt', delimiter='\\t', encoding='utf-8')\n",
    "edgelist_retweeting = edgelist_retweeting[edgelist_retweeting['agent_id'] != edgelist_retweeting['fact_id']]\n",
    "edgelist_retweeting.head()"
   ]
  },
  {
   "cell_type": "code",
   "execution_count": null,
   "metadata": {},
   "outputs": [],
   "source": [
    "edgelist_tagging = pd.read_csv('data/icwsm14_tagging.txt', delimiter='\\t', encoding='utf-8')\n",
    "edgelist_tagging.head()"
   ]
  },
  {
   "cell_type": "markdown",
   "metadata": {},
   "source": [
    "### Graph Visualization\n",
    "A good way to start an analysis is to get a visual impression of the data. Let's start with the directed unipartite graph of who mentions who. Tune <font face='Courier'>k</font> (the optimal distance between nodes) until the result looks satisfactory:"
   ]
  },
  {
   "cell_type": "code",
   "execution_count": null,
   "metadata": {},
   "outputs": [],
   "source": [
    "D_mentioning = nx.DiGraph()\n",
    "D_mentioning.add_edges_from(edgelist_mentioning[['agent_id', 'fact_id']].values)\n",
    "pos_mentioning = nx.spring_layout(D_mentioning, k=0.5)\n",
    "plt.figure(figsize=(6, 6))\n",
    "nx.draw(D_mentioning, pos=pos_mentioning)"
   ]
  },
  {
   "cell_type": "markdown",
   "metadata": {},
   "source": [
    "Get size of graph:"
   ]
  },
  {
   "cell_type": "code",
   "execution_count": null,
   "metadata": {},
   "outputs": [],
   "source": [
    "nx.number_of_nodes(D_mentioning), nx.number_of_edges(D_mentioning)"
   ]
  },
  {
   "cell_type": "markdown",
   "metadata": {},
   "source": [
    "Is the graph weakly connected (it is if it contains a directed path from <font face='Courier'>u</font> to <font face='Courier'>v</font> or a directed path from <font face='Courier'>v</font> to <font face='Courier'>u</font> for every pair of vertices <font face='Courier'>u</font>, <font face='Courier'>v</font>)?"
   ]
  },
  {
   "cell_type": "code",
   "execution_count": null,
   "metadata": {},
   "outputs": [],
   "source": [
    "nx.is_weakly_connected(D_mentioning)"
   ]
  },
  {
   "cell_type": "markdown",
   "metadata": {},
   "source": [
    "How many weakly connected components are there?"
   ]
  },
  {
   "cell_type": "code",
   "execution_count": null,
   "metadata": {},
   "outputs": [],
   "source": [
    "nx.number_weakly_connected_components(D_mentioning)"
   ]
  },
  {
   "cell_type": "markdown",
   "metadata": {},
   "source": [
    "Extract the largest weakly connected component and plot it:"
   ]
  },
  {
   "cell_type": "code",
   "execution_count": null,
   "metadata": {},
   "outputs": [],
   "source": [
    "D_mentioning_giant = max(nx.weakly_connected_component_subgraphs(D_mentioning), key=len)\n",
    "pos_mentioning_giant = nx.spring_layout(D_mentioning, k=0.5)\n",
    "plt.figure(figsize=(6, 6))\n",
    "nx.draw(D_mentioning_giant, pos=pos_mentioning_giant)"
   ]
  },
  {
   "cell_type": "code",
   "execution_count": null,
   "metadata": {},
   "outputs": [],
   "source": [
    "nx.number_of_nodes(D_mentioning_giant), nx.number_of_edges(D_mentioning_giant)"
   ]
  },
  {
   "cell_type": "markdown",
   "metadata": {},
   "source": [
    "We can do better than this!\n",
    "\n",
    "First, since we've used a simple <font face='Courier'>nx.DiGraph()</font> structure edge weights are neglected. The <font face='Courier'>add_edges_from()</font> function doesn't create edge weights automatically but overwrites a node pair if it occurs again. We can include weights by grouping the initial dataframe on source and target nodes:"
   ]
  },
  {
   "cell_type": "code",
   "execution_count": null,
   "metadata": {},
   "outputs": [],
   "source": [
    "edgelist_mentioning_weighted = edgelist_mentioning.groupby(['agent_id', 'fact_id']).size().to_frame('weight').reset_index()\n",
    "edgelist_mentioning_weighted.head()"
   ]
  },
  {
   "cell_type": "markdown",
   "metadata": {},
   "source": [
    "Now use the <font face='Courier'>add_weighted_edges_from()</font> function:"
   ]
  },
  {
   "cell_type": "code",
   "execution_count": null,
   "metadata": {},
   "outputs": [],
   "source": [
    "D_mentioning = nx.DiGraph()\n",
    "D_mentioning.add_weighted_edges_from(edgelist_mentioning_weighted.values)"
   ]
  },
  {
   "cell_type": "code",
   "execution_count": null,
   "metadata": {},
   "outputs": [],
   "source": [
    "mentioning_weight = [w['weight'] for (u, v, w) in D_mentioning.edges(data=True)]\n",
    "mentioning_weight = [w/20 for w in mentioning_weight]"
   ]
  },
  {
   "cell_type": "code",
   "execution_count": null,
   "metadata": {},
   "outputs": [],
   "source": [
    "plt.figure(figsize=(6, 6))\n",
    "nx.draw(D_mentioning, pos=pos_mentioning, width=mentioning_weight)"
   ]
  },
  {
   "cell_type": "markdown",
   "metadata": {},
   "source": [
    "Second, size nodes by the number of times the corresponding politician has been mentioned:"
   ]
  },
  {
   "cell_type": "code",
   "execution_count": null,
   "metadata": {},
   "outputs": [],
   "source": [
    "mentioning_inweight = dict(D_mentioning.in_degree(weight='weight'))"
   ]
  },
  {
   "cell_type": "code",
   "execution_count": null,
   "metadata": {},
   "outputs": [],
   "source": [
    "for key, value in mentioning_inweight.items():\n",
    "    D_mentioning.nodes[key]['inweight'] = value"
   ]
  },
  {
   "cell_type": "code",
   "execution_count": null,
   "metadata": {},
   "outputs": [],
   "source": [
    "mentioning_inweight = [w['inweight'] for (u, w) in D_mentioning.nodes(data=True)]"
   ]
  },
  {
   "cell_type": "code",
   "execution_count": null,
   "metadata": {},
   "outputs": [],
   "source": [
    "plt.figure(figsize=(6, 6))\n",
    "nx.draw(D_mentioning, pos=pos_mentioning, node_size=mentioning_inweight, width=mentioning_weight)"
   ]
  },
  {
   "cell_type": "markdown",
   "metadata": {},
   "source": [
    "Third, each politician belongs to a political party. Represent each by a color. To do so, extract the politicians that are actually contained in the graph:"
   ]
  },
  {
   "cell_type": "code",
   "execution_count": null,
   "metadata": {},
   "outputs": [],
   "source": [
    "politicians_parties_mentioning = politicians[politicians['agent_id'].isin(set(D_mentioning.nodes))][['agent_id', 'party']]\n",
    "politicians_parties_mentioning.head()"
   ]
  },
  {
   "cell_type": "markdown",
   "metadata": {},
   "source": [
    "Transform this dataframe into a dictionary, loop through it, and assign a color for a given party <font face='Courier'>value</font>:"
   ]
  },
  {
   "cell_type": "code",
   "execution_count": null,
   "metadata": {},
   "outputs": [],
   "source": [
    "politicians_parties_mentioning_dict = politicians_parties_mentioning.set_index('agent_id')['party'].to_dict()"
   ]
  },
  {
   "cell_type": "code",
   "execution_count": null,
   "metadata": {},
   "outputs": [],
   "source": [
    "for key, value in politicians_parties_mentioning_dict.items():\n",
    "    if value == 'CDU':\n",
    "        D_mentioning.nodes[key]['color'] = 'black'\n",
    "    if value == 'CSU':\n",
    "        D_mentioning.nodes[key]['color'] = 'black'\n",
    "    if value == 'FDP':\n",
    "        D_mentioning.nodes[key]['color'] = 'yellow'\n",
    "    if value == 'Die Grünen':\n",
    "        D_mentioning.nodes[key]['color'] = 'green'\n",
    "    if value == 'Die Linke':\n",
    "        D_mentioning.nodes[key]['color'] = 'darkviolet'\n",
    "    if value == 'Piratenpartei':\n",
    "        D_mentioning.nodes[key]['color'] = 'orange'\n",
    "    if value == 'SPD':\n",
    "        D_mentioning.nodes[key]['color'] = 'red'"
   ]
  },
  {
   "cell_type": "code",
   "execution_count": null,
   "metadata": {},
   "outputs": [],
   "source": [
    "politicians_color_mentioning = [c['color'] for (u, c) in D_mentioning.nodes(data=True)]"
   ]
  },
  {
   "cell_type": "code",
   "execution_count": null,
   "metadata": {},
   "outputs": [],
   "source": [
    "plt.figure(figsize=(6, 6))\n",
    "nx.draw(D_mentioning, pos=pos_mentioning, node_size=mentioning_inweight, node_color=politicians_color_mentioning, width=mentioning_weight)"
   ]
  },
  {
   "cell_type": "markdown",
   "metadata": {},
   "source": [
    "Now the graph actually speaks to us!\n",
    "\n",
    "Graph layouting is a complex process and often takes time to converge to a stable solution. The Fruchterman/Reingold layout algorithm starts with random node positions. Then, the smaller (larger) a node's degree the more it is placed away from (towards) the center of the figure. Non-separation of communities in the center can be a sign of non-convergence. By default, the algorithm uses 50 iterations. Experiment with the <font face='Courier'>iterations</font> parameter:"
   ]
  },
  {
   "cell_type": "code",
   "execution_count": null,
   "metadata": {},
   "outputs": [],
   "source": [
    "pos_mentioning = nx.spring_layout(D_mentioning, k=1, iterations=200)\n",
    "plt.figure(figsize=(6, 6))\n",
    "nx.draw(D_mentioning, pos=pos_mentioning, node_size=mentioning_inweight, node_color=politicians_color_mentioning, width=mentioning_weight)"
   ]
  },
  {
   "cell_type": "markdown",
   "metadata": {},
   "source": [
    "### Party Mixing Pattern\n",
    "Eye inspection of the network shows that politicians strongly mention fellow party members. Newman's assortativity measure (defined in <a href='https://doi.org/10.1103/PhysRevE.67.026126'>this paper</a>) can be used to quantify this:"
   ]
  },
  {
   "cell_type": "code",
   "execution_count": null,
   "metadata": {},
   "outputs": [],
   "source": [
    "nx.attribute_assortativity_coefficient(D_mentioning, attribute='color')"
   ]
  },
  {
   "cell_type": "markdown",
   "metadata": {},
   "source": [
    "### Distributions\n",
    "Eye inspection also shows that there are large differences in attention. Who are those highly mentioned politicians? Add real names to nodes and list them along with inweights:"
   ]
  },
  {
   "cell_type": "code",
   "execution_count": null,
   "metadata": {},
   "outputs": [],
   "source": [
    "politicians_names = politicians[politicians['agent_id'].isin(set(D_mentioning.nodes))][['agent_id', 'agent']]\n",
    "politicians_names_dict = politicians_names.set_index('agent_id')['agent'].to_dict()"
   ]
  },
  {
   "cell_type": "code",
   "execution_count": null,
   "metadata": {},
   "outputs": [],
   "source": [
    "for key, value in politicians_names_dict.items():\n",
    "    D_mentioning.nodes[key]['agent'] = value"
   ]
  },
  {
   "cell_type": "code",
   "execution_count": null,
   "metadata": {},
   "outputs": [],
   "source": [
    "pd.DataFrame({\n",
    "    'agent': list(nx.get_node_attributes(D_mentioning, 'agent').values()),\n",
    "    'inweight': list(nx.get_node_attributes(D_mentioning, 'inweight').values())\n",
    "}).sort_values(by='inweight', ascending=False)"
   ]
  },
  {
   "cell_type": "markdown",
   "metadata": {},
   "source": [
    "We are used to normal distributions. If the degrees $k$ of a graph are normally distributed, the network has a typical scale described by the mean and standard deviation of the normal distribution. <a href='http://doi.org/10.1126/science.286.5439.509'>Scale-free networks</a>, a paradigmatic class of graphs in network science, don't have a typical scale. Instead, its degree distribution resembles a power law:\n",
    "\n",
    "$p(k)\\propto k^{-\\alpha}$\n",
    "\n",
    "Power laws show as straight lines on log-log scales, where the exponent $\\alpha$ determines the slope. Networks with exponents $\\alpha\\leq3$ theoretically have infinite variance. In practice, this means that the standard deviation of a sample may be vary far from the expectation.\n",
    "\n",
    "Instead of the degree, we can also use the weighted indegree to study if the mentioning network is scale-free:"
   ]
  },
  {
   "cell_type": "code",
   "execution_count": null,
   "metadata": {},
   "outputs": [],
   "source": [
    "w = [w for w in mentioning_inweight if w > 0]"
   ]
  },
  {
   "cell_type": "code",
   "execution_count": null,
   "metadata": {},
   "outputs": [],
   "source": [
    "pl.plot_pdf(w, marker='o', ls='', linear_bins=True) # explore setting linear_bins=False\n",
    "plt.xlabel('$w$')\n",
    "plt.ylabel('$p(w)$')"
   ]
  },
  {
   "cell_type": "markdown",
   "metadata": {},
   "source": [
    "There are five candidate functions to describe distributions like this:\n",
    "\n",
    "- exponential (like the tail of a normal distribution)\n",
    "- stretched exponential (an exponential with a power-law stretch)\n",
    "- lognormal\n",
    "- power law\n",
    "- truncated power law (a power law with an exponential upper cutoff)"
   ]
  },
  {
   "cell_type": "code",
   "execution_count": null,
   "metadata": {},
   "outputs": [],
   "source": [
    "function = ['exponential', 'stretched_exponential', 'lognormal', 'power_law', 'truncated_power_law']"
   ]
  },
  {
   "cell_type": "markdown",
   "metadata": {},
   "source": [
    "Fit these functions to the data (using maximum likelihood estimation described <a href='https://doi.org/10.1137/070710111'>here</a>). <font face='Courier'>xmin</font> sets a lower cutoff above which the function should describe the data. If <font face='Courier'>xmin=None</font>, the optimal cutoff will be detected."
   ]
  },
  {
   "cell_type": "code",
   "execution_count": null,
   "metadata": {},
   "outputs": [],
   "source": [
    "w_fit = pl.Fit(w, discrete=True, xmin=1)"
   ]
  },
  {
   "cell_type": "code",
   "execution_count": null,
   "metadata": {},
   "outputs": [],
   "source": [
    "print('xmin:', w_fit.xmin)\n",
    "print('alpha:', round(w_fit.alpha, 2))"
   ]
  },
  {
   "cell_type": "markdown",
   "metadata": {},
   "source": [
    "Print the Kolmogorov-Smirnov goodness of fit:"
   ]
  },
  {
   "cell_type": "code",
   "execution_count": null,
   "metadata": {},
   "outputs": [],
   "source": [
    "print('exponential:', round(w_fit.exponential.D, 2))\n",
    "print('stretched_exponential:', round(w_fit.stretched_exponential.D, 2))\n",
    "print('lognormal:', round(w_fit.lognormal.D, 2))\n",
    "print('power_law:', round(w_fit.power_law.D, 2))\n",
    "print('truncated_power_law:', round(w_fit.truncated_power_law.D, 2))"
   ]
  },
  {
   "cell_type": "markdown",
   "metadata": {},
   "source": [
    "Add fits to plot:"
   ]
  },
  {
   "cell_type": "code",
   "execution_count": null,
   "metadata": {},
   "outputs": [],
   "source": [
    "w_fit.plot_pdf(linear_bins=False, marker='o', ls='', label='data')\n",
    "w_fit.exponential.plot_pdf(label='exponential')\n",
    "w_fit.stretched_exponential.plot_pdf(label='stretched_exponential')\n",
    "w_fit.lognormal.plot_pdf(label='lognormal')\n",
    "w_fit.power_law.plot_pdf(label='power_law')\n",
    "w_fit.truncated_power_law.plot_pdf(label='truncated_power_law')\n",
    "plt.xlabel('$w$')\n",
    "plt.ylabel('$p(w)$')\n",
    "plt.legend()"
   ]
  },
  {
   "cell_type": "markdown",
   "metadata": {},
   "source": [
    "Assess which of two functions is a more plausible fit. The first score, $R$, is the loglikelihood ratio between the two functions. It is positive (negative) when the first (second) function is more likely. The second score, $p$, gives the significance of the difference."
   ]
  },
  {
   "cell_type": "code",
   "execution_count": null,
   "metadata": {},
   "outputs": [],
   "source": [
    "w_fit.distribution_compare('power_law', 'stretched_exponential')"
   ]
  },
  {
   "cell_type": "code",
   "execution_count": null,
   "metadata": {},
   "outputs": [],
   "source": [
    "w_fit.distribution_compare(function[3], function[1])"
   ]
  },
  {
   "cell_type": "markdown",
   "metadata": {},
   "source": [
    "Compare functions systematically by comparing all possible pairs:"
   ]
  },
  {
   "cell_type": "code",
   "execution_count": null,
   "metadata": {},
   "outputs": [],
   "source": [
    "w_fit_R = np.zeros((5, 5), dtype=float)\n",
    "w_fit_p = np.zeros((5, 5), dtype=float)"
   ]
  },
  {
   "cell_type": "code",
   "execution_count": null,
   "metadata": {},
   "outputs": [],
   "source": [
    "for i in range(0, 5):\n",
    "    for j in range(0, 5):\n",
    "        R, p = w_fit.distribution_compare(function[i], function[j])\n",
    "        w_fit_R[i, j] = R\n",
    "        w_fit_p[i, j] = p"
   ]
  },
  {
   "cell_type": "code",
   "execution_count": null,
   "metadata": {},
   "outputs": [],
   "source": [
    "pd.DataFrame(w_fit_R, index=function, columns=function)"
   ]
  },
  {
   "cell_type": "code",
   "execution_count": null,
   "metadata": {},
   "outputs": [],
   "source": [
    "pd.DataFrame(w_fit_p, index=function, columns=function)"
   ]
  },
  {
   "cell_type": "markdown",
   "metadata": {},
   "source": [
    "### The Undirected Hidden Network\n",
    "Often attention in tweets is not reciprocated. Agents who are mentioned by many don't necessarily mention those many agents. It has been proposed in <a href='http://www.firstmonday.dk/ojs/index.php/fm/article/view/2317/2063'>this paper</a> that the \"hidden network\" of reciprocal ties resembles a social network where a tie indicates mutual awareness.\n",
    "\n",
    "Get the indegrees (number of mentioners) for the directed graph:"
   ]
  },
  {
   "cell_type": "code",
   "execution_count": null,
   "metadata": {},
   "outputs": [],
   "source": [
    "mentioning_indegree = dict(D_mentioning.in_degree())"
   ]
  },
  {
   "cell_type": "code",
   "execution_count": null,
   "metadata": {},
   "outputs": [],
   "source": [
    "for key, value in mentioning_indegree.items():\n",
    "    D_mentioning.nodes[key]['indegree'] = value"
   ]
  },
  {
   "cell_type": "code",
   "execution_count": null,
   "metadata": {},
   "outputs": [],
   "source": [
    "mentioning_indegree = [k['indegree'] for (u, k) in D_mentioning.nodes(data=True)]"
   ]
  },
  {
   "cell_type": "markdown",
   "metadata": {},
   "source": [
    "Create an undirected graph and get the degrees (number of mentioned mentioners):"
   ]
  },
  {
   "cell_type": "code",
   "execution_count": null,
   "metadata": {},
   "outputs": [],
   "source": [
    "G_mentioning = D_mentioning.to_undirected(reciprocal=True)"
   ]
  },
  {
   "cell_type": "code",
   "execution_count": null,
   "metadata": {},
   "outputs": [],
   "source": [
    "mentioning_degree = dict(G_mentioning.degree())"
   ]
  },
  {
   "cell_type": "code",
   "execution_count": null,
   "metadata": {},
   "outputs": [],
   "source": [
    "for key, value in mentioning_degree.items():\n",
    "    G_mentioning.nodes[key]['degree'] = value"
   ]
  },
  {
   "cell_type": "code",
   "execution_count": null,
   "metadata": {},
   "outputs": [],
   "source": [
    "mentioning_degree = [k['degree'] for (u, k) in G_mentioning.nodes(data=True)]"
   ]
  },
  {
   "cell_type": "markdown",
   "metadata": {},
   "source": [
    "Store information in a dataframe and do a scatterplot:"
   ]
  },
  {
   "cell_type": "code",
   "execution_count": null,
   "metadata": {},
   "outputs": [],
   "source": [
    "politicians_mentioners = pd.DataFrame({\n",
    "    'agent': list(nx.get_node_attributes(G_mentioning, 'agent').values()),\n",
    "    'indegree': list(nx.get_node_attributes(G_mentioning, 'indegree').values()),\n",
    "    'degree': list(nx.get_node_attributes(G_mentioning, 'degree').values())\n",
    "})\n",
    "politicians_mentioners = politicians_mentioners[(politicians_mentioners['degree'] > 0) & (politicians_mentioners['indegree'] > 0)]\n",
    "politicians_mentioners.head()"
   ]
  },
  {
   "cell_type": "code",
   "execution_count": null,
   "metadata": {},
   "outputs": [],
   "source": [
    "plt.scatter(politicians_mentioners['indegree'], politicians_mentioners['degree'])\n",
    "plt.xlabel('Number of Mentioners')\n",
    "plt.ylabel('Number of Mentioned Mentioners')\n",
    "plt.xscale('log')\n",
    "plt.yscale('log')"
   ]
  },
  {
   "cell_type": "markdown",
   "metadata": {},
   "source": [
    "Plot the hidden network:"
   ]
  },
  {
   "cell_type": "code",
   "execution_count": null,
   "metadata": {},
   "outputs": [],
   "source": [
    "G_mentioning_giant = max(nx.connected_component_subgraphs(G_mentioning), key=len)"
   ]
  },
  {
   "cell_type": "code",
   "execution_count": null,
   "metadata": {},
   "outputs": [],
   "source": [
    "pos_mentioning_giant = nx.spring_layout(D_mentioning, k=0.1, iterations=200)\n",
    "plt.figure(figsize=(6, 6))\n",
    "nx.draw(G_mentioning_giant, pos=pos_mentioning_giant, node_size=mentioning_inweight, node_color=politicians_color_mentioning)"
   ]
  },
  {
   "cell_type": "markdown",
   "metadata": {},
   "source": [
    "Some basic graph statistics:"
   ]
  },
  {
   "cell_type": "code",
   "execution_count": null,
   "metadata": {},
   "outputs": [],
   "source": [
    "n = nx.number_of_nodes(G_mentioning_giant)\n",
    "print('Number of nodes:', n)\n",
    "m = nx.number_of_edges(G_mentioning_giant)\n",
    "print('Number of edges:', m)\n",
    "d = nx.density(G_mentioning_giant)\n",
    "print('Density:', d)\n",
    "print('Average degree:', np.mean(mentioning_degree))\n",
    "print('Degree correlation:', nx.degree_assortativity_coefficient(G_mentioning_giant))\n",
    "c = np.mean(list(nx.clustering(G_mentioning_giant).values()))\n",
    "print('Average clustering coefficient:', c)\n",
    "l = nx.average_shortest_path_length(G_mentioning_giant)\n",
    "print('Average shortest path length:', l)\n",
    "print('Diameter:', nx.diameter(G_mentioning_giant))"
   ]
  },
  {
   "cell_type": "markdown",
   "metadata": {},
   "source": [
    "<a href=''>Small-world networks</a> are another paradigmatic class of graphs in network science. A network is a small world if it has two properties at the same time. First, it has the property of highly ordered networks that a node's neighbors are strongly connected among themselves (high average clustering coefficient $c$). Second, it has the property of highly disordered networks that nodes have low degrees of seperation (low average shortest path length $l$).\n",
    "\n",
    "The small-world property is important because it quantifies the co-presence of two central characteristics of mature social systems. The small-world coefficient is obtained by comparing $c$ and $l$ to the corresponding scores $c_{\\mathrm{random}}$ and $l_{\\mathrm{random}}$ of simulated random graphs and taking the ratio:"
   ]
  },
  {
   "cell_type": "code",
   "execution_count": null,
   "metadata": {},
   "outputs": [],
   "source": [
    "c_rand = []\n",
    "l_rand = []\n",
    "for i in range(1, 10):\n",
    "    G_rand = nx.erdos_renyi_graph(n, d)\n",
    "    G_rand_giant = max(nx.connected_component_subgraphs(G_rand), key=len)\n",
    "    c_rand.append(np.mean(list(nx.clustering(G_rand).values())))\n",
    "    l_rand.append(nx.average_shortest_path_length(G_rand_giant))\n",
    "c_rand = np.mean(c_rand)\n",
    "l_rand = np.mean(l_rand)"
   ]
  },
  {
   "cell_type": "code",
   "execution_count": null,
   "metadata": {},
   "outputs": [],
   "source": [
    "print('Observed average clustering coefficient:', round(c, 2))\n",
    "print('Expected average clustering coefficient:', round(c_rand, 2))\n",
    "print('Observed average shortest path length:', round(l, 2))\n",
    "print('Expected average shortest path length:', round(l_rand, 2))\n",
    "print('Small-world coefficient:', int(round((c/c_rand)/(l/l_rand), 0)))"
   ]
  },
  {
   "cell_type": "code",
   "execution_count": null,
   "metadata": {},
   "outputs": [],
   "source": []
  },
  {
   "cell_type": "code",
   "execution_count": null,
   "metadata": {},
   "outputs": [],
   "source": []
  }
 ],
 "metadata": {
  "kernelspec": {
   "display_name": "Python 3",
   "language": "python",
   "name": "python3"
  },
  "language_info": {
   "codemirror_mode": {
    "name": "ipython",
    "version": 3
   },
   "file_extension": ".py",
   "mimetype": "text/x-python",
   "name": "python",
   "nbconvert_exporter": "python",
   "pygments_lexer": "ipython3",
   "version": "3.7.3"
  },
  "toc": {
   "colors": {
    "hover_highlight": "#DAA520",
    "navigate_num": "#000000",
    "navigate_text": "#333333",
    "running_highlight": "#FF0000",
    "selected_highlight": "#FFD700",
    "sidebar_border": "#EEEEEE",
    "wrapper_background": "#FFFFFF"
   },
   "moveMenuLeft": true,
   "nav_menu": {
    "height": "351px",
    "width": "252px"
   },
   "navigate_menu": true,
   "number_sections": true,
   "sideBar": true,
   "threshold": 4,
   "toc_cell": false,
   "toc_section_display": "block",
   "toc_window_display": false,
   "widenNotebook": false
  },
  "varInspector": {
   "cols": {
    "lenName": 16,
    "lenType": 16,
    "lenVar": 40
   },
   "kernels_config": {
    "python": {
     "delete_cmd_postfix": "",
     "delete_cmd_prefix": "del ",
     "library": "var_list.py",
     "varRefreshCmd": "print(var_dic_list())"
    },
    "r": {
     "delete_cmd_postfix": ") ",
     "delete_cmd_prefix": "rm(",
     "library": "var_list.r",
     "varRefreshCmd": "cat(var_dic_list()) "
    }
   },
   "types_to_exclude": [
    "module",
    "function",
    "builtin_function_or_method",
    "instance",
    "_Feature"
   ],
   "window_display": false
  }
 },
 "nbformat": 4,
 "nbformat_minor": 2
}
